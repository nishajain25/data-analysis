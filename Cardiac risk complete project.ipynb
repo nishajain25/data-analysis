{
 "cells": [
  {
   "cell_type": "markdown",
   "metadata": {},
   "source": [
    "## CARDIAC RISK DATASET EDA AND MACHINE LEARNING IMPEMENTATION"
   ]
  },
  {
   "cell_type": "code",
   "execution_count": 6,
   "metadata": {},
   "outputs": [],
   "source": [
    "import pandas as pd\n",
    "import seaborn as sns\n",
    "import matplotlib.pyplot as plt\n",
    "import warnings\n",
    "warnings.filterwarnings('ignore')\n",
    "from sklearn.metrics import accuracy_score\n",
    "from sklearn.metrics import classification_report\n",
    "from sklearn.metrics import confusion_matrix"
   ]
  },
  {
   "source": [
    "print(\"bsgd\")"
   ],
   "cell_type": "code",
   "metadata": {},
   "execution_count": null,
   "outputs": []
  },
  {
   "cell_type": "code",
   "execution_count": 7,
   "metadata": {},
   "outputs": [
    {
     "data": {
      "text/html": [
       "<div>\n",
       "<style scoped>\n",
       "    .dataframe tbody tr th:only-of-type {\n",
       "        vertical-align: middle;\n",
       "    }\n",
       "\n",
       "    .dataframe tbody tr th {\n",
       "        vertical-align: top;\n",
       "    }\n",
       "\n",
       "    .dataframe thead th {\n",
       "        text-align: right;\n",
       "    }\n",
       "</style>\n",
       "<table border=\"1\" class=\"dataframe\">\n",
       "  <thead>\n",
       "    <tr style=\"text-align: right;\">\n",
       "      <th></th>\n",
       "      <th>id</th>\n",
       "      <th>age in days</th>\n",
       "      <th>age</th>\n",
       "      <th>gender</th>\n",
       "      <th>height_in_cm</th>\n",
       "      <th>weight_in_kg</th>\n",
       "      <th>bp_hi</th>\n",
       "      <th>bp_lo</th>\n",
       "      <th>avg_heart_rate</th>\n",
       "      <th>cholesterol</th>\n",
       "      <th>gluc</th>\n",
       "      <th>smoke</th>\n",
       "      <th>alco</th>\n",
       "      <th>active</th>\n",
       "      <th>cardio</th>\n",
       "    </tr>\n",
       "  </thead>\n",
       "  <tbody>\n",
       "    <tr>\n",
       "      <th>0</th>\n",
       "      <td>0</td>\n",
       "      <td>18393</td>\n",
       "      <td>52</td>\n",
       "      <td>2</td>\n",
       "      <td>168</td>\n",
       "      <td>62.0</td>\n",
       "      <td>110</td>\n",
       "      <td>80</td>\n",
       "      <td>95.0</td>\n",
       "      <td>1</td>\n",
       "      <td>1</td>\n",
       "      <td>0</td>\n",
       "      <td>0</td>\n",
       "      <td>1</td>\n",
       "      <td>0</td>\n",
       "    </tr>\n",
       "    <tr>\n",
       "      <th>1</th>\n",
       "      <td>1</td>\n",
       "      <td>20228</td>\n",
       "      <td>57</td>\n",
       "      <td>1</td>\n",
       "      <td>156</td>\n",
       "      <td>85.0</td>\n",
       "      <td>140</td>\n",
       "      <td>90</td>\n",
       "      <td>115.0</td>\n",
       "      <td>3</td>\n",
       "      <td>1</td>\n",
       "      <td>0</td>\n",
       "      <td>0</td>\n",
       "      <td>1</td>\n",
       "      <td>1</td>\n",
       "    </tr>\n",
       "    <tr>\n",
       "      <th>2</th>\n",
       "      <td>2</td>\n",
       "      <td>18857</td>\n",
       "      <td>53</td>\n",
       "      <td>1</td>\n",
       "      <td>165</td>\n",
       "      <td>64.0</td>\n",
       "      <td>130</td>\n",
       "      <td>70</td>\n",
       "      <td>100.0</td>\n",
       "      <td>3</td>\n",
       "      <td>1</td>\n",
       "      <td>0</td>\n",
       "      <td>0</td>\n",
       "      <td>0</td>\n",
       "      <td>1</td>\n",
       "    </tr>\n",
       "    <tr>\n",
       "      <th>3</th>\n",
       "      <td>3</td>\n",
       "      <td>17623</td>\n",
       "      <td>50</td>\n",
       "      <td>2</td>\n",
       "      <td>169</td>\n",
       "      <td>82.0</td>\n",
       "      <td>150</td>\n",
       "      <td>100</td>\n",
       "      <td>125.0</td>\n",
       "      <td>1</td>\n",
       "      <td>1</td>\n",
       "      <td>0</td>\n",
       "      <td>0</td>\n",
       "      <td>1</td>\n",
       "      <td>1</td>\n",
       "    </tr>\n",
       "    <tr>\n",
       "      <th>4</th>\n",
       "      <td>4</td>\n",
       "      <td>17474</td>\n",
       "      <td>49</td>\n",
       "      <td>1</td>\n",
       "      <td>156</td>\n",
       "      <td>56.0</td>\n",
       "      <td>100</td>\n",
       "      <td>60</td>\n",
       "      <td>80.0</td>\n",
       "      <td>1</td>\n",
       "      <td>1</td>\n",
       "      <td>0</td>\n",
       "      <td>0</td>\n",
       "      <td>0</td>\n",
       "      <td>0</td>\n",
       "    </tr>\n",
       "  </tbody>\n",
       "</table>\n",
       "</div>"
      ],
      "text/plain": [
       "   id  age in days  age  gender  height_in_cm  weight_in_kg  bp_hi  bp_lo  \\\n",
       "0   0        18393   52       2           168          62.0    110     80   \n",
       "1   1        20228   57       1           156          85.0    140     90   \n",
       "2   2        18857   53       1           165          64.0    130     70   \n",
       "3   3        17623   50       2           169          82.0    150    100   \n",
       "4   4        17474   49       1           156          56.0    100     60   \n",
       "\n",
       "   avg_heart_rate  cholesterol  gluc  smoke  alco  active  cardio  \n",
       "0            95.0            1     1      0     0       1       0  \n",
       "1           115.0            3     1      0     0       1       1  \n",
       "2           100.0            3     1      0     0       0       1  \n",
       "3           125.0            1     1      0     0       1       1  \n",
       "4            80.0            1     1      0     0       0       0  "
      ]
     },
     "execution_count": 7,
     "metadata": {},
     "output_type": "execute_result"
    }
   ],
   "source": [
    "df=pd.read_csv(r'C:\\Users\\Lenovo\\Desktop\\J-NEW\\WEEK 4\\New major projects to work on\\cardiac_risk.csv')\n",
    "df.head()"
   ]
  },
  {
   "cell_type": "raw",
   "metadata": {},
   "source": [
    "*The dataset is representing whether a person is having cardiac risk or not depending on different factors of a person."
   ]
  },
  {
   "cell_type": "code",
   "execution_count": 8,
   "metadata": {},
   "outputs": [
    {
     "data": {
      "text/plain": [
       "(70000, 15)"
      ]
     },
     "execution_count": 8,
     "metadata": {},
     "output_type": "execute_result"
    }
   ],
   "source": [
    "df.shape"
   ]
  },
  {
   "cell_type": "raw",
   "metadata": {},
   "source": [
    "*It is having size (70000, 15) depicting 70000 rows and 15 columns initially."
   ]
  },
  {
   "cell_type": "code",
   "execution_count": 9,
   "metadata": {},
   "outputs": [],
   "source": [
    "df.drop(['id','age in days'],axis=1,inplace=True)"
   ]
  },
  {
   "cell_type": "raw",
   "metadata": {},
   "source": [
    "*We can drop 2 columns ('id' and 'age in days') which are not relevant in the cardiac risk prediction, ‘age in days’ is dropped because we already have 'age' column and we don't need 'age in days'.\n",
    "\n",
    "*After dropping these columns we are left with the 13 columns and same number of rows."
   ]
  },
  {
   "cell_type": "code",
   "execution_count": 10,
   "metadata": {},
   "outputs": [
    {
     "data": {
      "text/plain": [
       "(70000, 13)"
      ]
     },
     "execution_count": 10,
     "metadata": {},
     "output_type": "execute_result"
    }
   ],
   "source": [
    "df.shape"
   ]
  },
  {
   "cell_type": "markdown",
   "metadata": {},
   "source": [
    "### COLUMN NAMES OF DATASET"
   ]
  },
  {
   "cell_type": "code",
   "execution_count": 11,
   "metadata": {},
   "outputs": [
    {
     "data": {
      "text/plain": [
       "Index(['age', 'gender', 'height_in_cm', 'weight_in_kg', 'bp_hi', 'bp_lo',\n",
       "       'avg_heart_rate', 'cholesterol', 'gluc', 'smoke', 'alco', 'active',\n",
       "       'cardio'],\n",
       "      dtype='object')"
      ]
     },
     "execution_count": 11,
     "metadata": {},
     "output_type": "execute_result"
    }
   ],
   "source": [
    "df.columns"
   ]
  },
  {
   "cell_type": "markdown",
   "metadata": {},
   "source": [
    "### Differentiating the variables into numerical and categorical variables"
   ]
  },
  {
   "cell_type": "raw",
   "metadata": {},
   "source": [
    "NUMERICAL VARIABLES\n",
    "1.CONTINUOUS- age,height_in_cm,weight_in_kg,bp_hi,bp_lo,avg_heart_rate\n",
    "2.DISCRETE- id ,age in days\n",
    "    \n",
    "CATEGORICAL VARIABLES\n",
    "1.NOMINAL- gender, cholesterol, gluc, smoke,alco,active,cardio"
   ]
  },
  {
   "cell_type": "markdown",
   "metadata": {},
   "source": [
    "### Differentiating the (features) independent variables and the (Target) dependent variable."
   ]
  },
  {
   "cell_type": "raw",
   "metadata": {},
   "source": [
    "*DEPENDENT VARIABLE- cardio (because this is the object which is telling whether a person having cardiac risk or not.)\n",
    "\n",
    "*INDEPENDENT VARIABLE-age,height_in_cm,weight_in_kg,bp_hi,bp_lo,avg_heart_rate,gender,cholesterol,gluc,smoke,alco,active(because all these factors are defining the features of a person depending on which we can conclude the target class)"
   ]
  },
  {
   "cell_type": "markdown",
   "metadata": {},
   "source": [
    "### Specifying names of some variables to be used in the further Data Analysis."
   ]
  },
  {
   "cell_type": "code",
   "execution_count": 12,
   "metadata": {},
   "outputs": [],
   "source": [
    "MAX_HI_BP = 190\n",
    "MIN_HI_BP = 60\n",
    "MAX_LOW_BP = 120\n",
    "MIN_LOW_BP = 30\n",
    "MAX_AVG_HR = 300\n",
    "MIN_AVG_HR = 30"
   ]
  },
  {
   "cell_type": "markdown",
   "metadata": {},
   "source": [
    "### NULL VALUES"
   ]
  },
  {
   "cell_type": "raw",
   "metadata": {},
   "source": [
    "Checking for null values if any in the dataset. If there is any null values we must remove them or must fill them with mode in case of categorical data and mean in case of the continuous data."
   ]
  },
  {
   "cell_type": "code",
   "execution_count": 16,
   "metadata": {},
   "outputs": [
    {
     "data": {
      "text/plain": [
       "age               0\n",
       "gender            0\n",
       "height_in_cm      0\n",
       "weight_in_kg      0\n",
       "bp_hi             0\n",
       "bp_lo             0\n",
       "avg_heart_rate    0\n",
       "cholesterol       0\n",
       "gluc              0\n",
       "smoke             0\n",
       "alco              0\n",
       "active            0\n",
       "cardio            0\n",
       "dtype: int64"
      ]
     },
     "execution_count": 16,
     "metadata": {},
     "output_type": "execute_result"
    }
   ],
   "source": [
    "df.isnull().sum()\n",
    "\n",
    "# we don't having any null values in the dataset so our dataset is clean on the part of null values, we can proceed for further analysis."
   ]
  },
  {
   "cell_type": "code",
   "execution_count": 17,
   "metadata": {},
   "outputs": [],
   "source": [
    "#Now make a copy of a dataframe for further analysis.\n",
    "df_copy=df.copy()"
   ]
  },
  {
   "cell_type": "code",
   "execution_count": 18,
   "metadata": {},
   "outputs": [
    {
     "data": {
      "text/html": [
       "<div>\n",
       "<style scoped>\n",
       "    .dataframe tbody tr th:only-of-type {\n",
       "        vertical-align: middle;\n",
       "    }\n",
       "\n",
       "    .dataframe tbody tr th {\n",
       "        vertical-align: top;\n",
       "    }\n",
       "\n",
       "    .dataframe thead th {\n",
       "        text-align: right;\n",
       "    }\n",
       "</style>\n",
       "<table border=\"1\" class=\"dataframe\">\n",
       "  <thead>\n",
       "    <tr style=\"text-align: right;\">\n",
       "      <th></th>\n",
       "      <th>age</th>\n",
       "      <th>gender</th>\n",
       "      <th>height_in_cm</th>\n",
       "      <th>weight_in_kg</th>\n",
       "      <th>bp_hi</th>\n",
       "      <th>bp_lo</th>\n",
       "      <th>avg_heart_rate</th>\n",
       "      <th>cholesterol</th>\n",
       "      <th>gluc</th>\n",
       "      <th>smoke</th>\n",
       "      <th>alco</th>\n",
       "      <th>active</th>\n",
       "      <th>cardio</th>\n",
       "    </tr>\n",
       "  </thead>\n",
       "  <tbody>\n",
       "    <tr>\n",
       "      <th>0</th>\n",
       "      <td>52</td>\n",
       "      <td>2</td>\n",
       "      <td>168</td>\n",
       "      <td>62.0</td>\n",
       "      <td>110</td>\n",
       "      <td>80</td>\n",
       "      <td>95.0</td>\n",
       "      <td>1</td>\n",
       "      <td>1</td>\n",
       "      <td>0</td>\n",
       "      <td>0</td>\n",
       "      <td>1</td>\n",
       "      <td>0</td>\n",
       "    </tr>\n",
       "    <tr>\n",
       "      <th>1</th>\n",
       "      <td>57</td>\n",
       "      <td>1</td>\n",
       "      <td>156</td>\n",
       "      <td>85.0</td>\n",
       "      <td>140</td>\n",
       "      <td>90</td>\n",
       "      <td>115.0</td>\n",
       "      <td>3</td>\n",
       "      <td>1</td>\n",
       "      <td>0</td>\n",
       "      <td>0</td>\n",
       "      <td>1</td>\n",
       "      <td>1</td>\n",
       "    </tr>\n",
       "    <tr>\n",
       "      <th>2</th>\n",
       "      <td>53</td>\n",
       "      <td>1</td>\n",
       "      <td>165</td>\n",
       "      <td>64.0</td>\n",
       "      <td>130</td>\n",
       "      <td>70</td>\n",
       "      <td>100.0</td>\n",
       "      <td>3</td>\n",
       "      <td>1</td>\n",
       "      <td>0</td>\n",
       "      <td>0</td>\n",
       "      <td>0</td>\n",
       "      <td>1</td>\n",
       "    </tr>\n",
       "    <tr>\n",
       "      <th>3</th>\n",
       "      <td>50</td>\n",
       "      <td>2</td>\n",
       "      <td>169</td>\n",
       "      <td>82.0</td>\n",
       "      <td>150</td>\n",
       "      <td>100</td>\n",
       "      <td>125.0</td>\n",
       "      <td>1</td>\n",
       "      <td>1</td>\n",
       "      <td>0</td>\n",
       "      <td>0</td>\n",
       "      <td>1</td>\n",
       "      <td>1</td>\n",
       "    </tr>\n",
       "    <tr>\n",
       "      <th>4</th>\n",
       "      <td>49</td>\n",
       "      <td>1</td>\n",
       "      <td>156</td>\n",
       "      <td>56.0</td>\n",
       "      <td>100</td>\n",
       "      <td>60</td>\n",
       "      <td>80.0</td>\n",
       "      <td>1</td>\n",
       "      <td>1</td>\n",
       "      <td>0</td>\n",
       "      <td>0</td>\n",
       "      <td>0</td>\n",
       "      <td>0</td>\n",
       "    </tr>\n",
       "  </tbody>\n",
       "</table>\n",
       "</div>"
      ],
      "text/plain": [
       "   age  gender  height_in_cm  weight_in_kg  bp_hi  bp_lo  avg_heart_rate  \\\n",
       "0   52       2           168          62.0    110     80            95.0   \n",
       "1   57       1           156          85.0    140     90           115.0   \n",
       "2   53       1           165          64.0    130     70           100.0   \n",
       "3   50       2           169          82.0    150    100           125.0   \n",
       "4   49       1           156          56.0    100     60            80.0   \n",
       "\n",
       "   cholesterol  gluc  smoke  alco  active  cardio  \n",
       "0            1     1      0     0       1       0  \n",
       "1            3     1      0     0       1       1  \n",
       "2            3     1      0     0       0       1  \n",
       "3            1     1      0     0       1       1  \n",
       "4            1     1      0     0       0       0  "
      ]
     },
     "execution_count": 18,
     "metadata": {},
     "output_type": "execute_result"
    }
   ],
   "source": [
    "df_copy.head()"
   ]
  },
  {
   "cell_type": "markdown",
   "metadata": {},
   "source": [
    "### Analysis from describe () method"
   ]
  },
  {
   "cell_type": "code",
   "execution_count": 20,
   "metadata": {},
   "outputs": [
    {
     "data": {
      "text/html": [
       "<div>\n",
       "<style scoped>\n",
       "    .dataframe tbody tr th:only-of-type {\n",
       "        vertical-align: middle;\n",
       "    }\n",
       "\n",
       "    .dataframe tbody tr th {\n",
       "        vertical-align: top;\n",
       "    }\n",
       "\n",
       "    .dataframe thead th {\n",
       "        text-align: right;\n",
       "    }\n",
       "</style>\n",
       "<table border=\"1\" class=\"dataframe\">\n",
       "  <thead>\n",
       "    <tr style=\"text-align: right;\">\n",
       "      <th></th>\n",
       "      <th>age</th>\n",
       "      <th>gender</th>\n",
       "      <th>height_in_cm</th>\n",
       "      <th>weight_in_kg</th>\n",
       "      <th>bp_hi</th>\n",
       "      <th>bp_lo</th>\n",
       "      <th>avg_heart_rate</th>\n",
       "      <th>cholesterol</th>\n",
       "      <th>gluc</th>\n",
       "      <th>smoke</th>\n",
       "      <th>alco</th>\n",
       "      <th>active</th>\n",
       "      <th>cardio</th>\n",
       "    </tr>\n",
       "  </thead>\n",
       "  <tbody>\n",
       "    <tr>\n",
       "      <th>count</th>\n",
       "      <td>70000.000000</td>\n",
       "      <td>70000.000000</td>\n",
       "      <td>70000.000000</td>\n",
       "      <td>70000.000000</td>\n",
       "      <td>70000.000000</td>\n",
       "      <td>70000.000000</td>\n",
       "      <td>70000.000000</td>\n",
       "      <td>70000.000000</td>\n",
       "      <td>70000.000000</td>\n",
       "      <td>70000.000000</td>\n",
       "      <td>70000.000000</td>\n",
       "      <td>70000.000000</td>\n",
       "      <td>70000.000000</td>\n",
       "    </tr>\n",
       "    <tr>\n",
       "      <th>mean</th>\n",
       "      <td>54.690500</td>\n",
       "      <td>1.349571</td>\n",
       "      <td>164.359229</td>\n",
       "      <td>74.205690</td>\n",
       "      <td>128.817286</td>\n",
       "      <td>96.630414</td>\n",
       "      <td>112.723850</td>\n",
       "      <td>1.366871</td>\n",
       "      <td>1.226457</td>\n",
       "      <td>0.088129</td>\n",
       "      <td>0.053771</td>\n",
       "      <td>0.803729</td>\n",
       "      <td>0.499700</td>\n",
       "    </tr>\n",
       "    <tr>\n",
       "      <th>std</th>\n",
       "      <td>6.935513</td>\n",
       "      <td>0.476838</td>\n",
       "      <td>8.210126</td>\n",
       "      <td>14.395757</td>\n",
       "      <td>154.011419</td>\n",
       "      <td>188.472530</td>\n",
       "      <td>122.653208</td>\n",
       "      <td>0.680250</td>\n",
       "      <td>0.572270</td>\n",
       "      <td>0.283484</td>\n",
       "      <td>0.225568</td>\n",
       "      <td>0.397179</td>\n",
       "      <td>0.500003</td>\n",
       "    </tr>\n",
       "    <tr>\n",
       "      <th>min</th>\n",
       "      <td>30.000000</td>\n",
       "      <td>1.000000</td>\n",
       "      <td>55.000000</td>\n",
       "      <td>10.000000</td>\n",
       "      <td>-150.000000</td>\n",
       "      <td>-70.000000</td>\n",
       "      <td>-35.000000</td>\n",
       "      <td>1.000000</td>\n",
       "      <td>1.000000</td>\n",
       "      <td>0.000000</td>\n",
       "      <td>0.000000</td>\n",
       "      <td>0.000000</td>\n",
       "      <td>0.000000</td>\n",
       "    </tr>\n",
       "    <tr>\n",
       "      <th>25%</th>\n",
       "      <td>50.000000</td>\n",
       "      <td>1.000000</td>\n",
       "      <td>159.000000</td>\n",
       "      <td>65.000000</td>\n",
       "      <td>120.000000</td>\n",
       "      <td>80.000000</td>\n",
       "      <td>100.000000</td>\n",
       "      <td>1.000000</td>\n",
       "      <td>1.000000</td>\n",
       "      <td>0.000000</td>\n",
       "      <td>0.000000</td>\n",
       "      <td>1.000000</td>\n",
       "      <td>0.000000</td>\n",
       "    </tr>\n",
       "    <tr>\n",
       "      <th>50%</th>\n",
       "      <td>55.000000</td>\n",
       "      <td>1.000000</td>\n",
       "      <td>165.000000</td>\n",
       "      <td>72.000000</td>\n",
       "      <td>120.000000</td>\n",
       "      <td>80.000000</td>\n",
       "      <td>100.000000</td>\n",
       "      <td>1.000000</td>\n",
       "      <td>1.000000</td>\n",
       "      <td>0.000000</td>\n",
       "      <td>0.000000</td>\n",
       "      <td>1.000000</td>\n",
       "      <td>0.000000</td>\n",
       "    </tr>\n",
       "    <tr>\n",
       "      <th>75%</th>\n",
       "      <td>60.000000</td>\n",
       "      <td>2.000000</td>\n",
       "      <td>170.000000</td>\n",
       "      <td>82.000000</td>\n",
       "      <td>140.000000</td>\n",
       "      <td>90.000000</td>\n",
       "      <td>110.000000</td>\n",
       "      <td>2.000000</td>\n",
       "      <td>1.000000</td>\n",
       "      <td>0.000000</td>\n",
       "      <td>0.000000</td>\n",
       "      <td>1.000000</td>\n",
       "      <td>1.000000</td>\n",
       "    </tr>\n",
       "    <tr>\n",
       "      <th>max</th>\n",
       "      <td>67.000000</td>\n",
       "      <td>2.000000</td>\n",
       "      <td>250.000000</td>\n",
       "      <td>200.000000</td>\n",
       "      <td>16020.000000</td>\n",
       "      <td>11000.000000</td>\n",
       "      <td>8050.000000</td>\n",
       "      <td>3.000000</td>\n",
       "      <td>3.000000</td>\n",
       "      <td>1.000000</td>\n",
       "      <td>1.000000</td>\n",
       "      <td>1.000000</td>\n",
       "      <td>1.000000</td>\n",
       "    </tr>\n",
       "  </tbody>\n",
       "</table>\n",
       "</div>"
      ],
      "text/plain": [
       "                age        gender  height_in_cm  weight_in_kg         bp_hi  \\\n",
       "count  70000.000000  70000.000000  70000.000000  70000.000000  70000.000000   \n",
       "mean      54.690500      1.349571    164.359229     74.205690    128.817286   \n",
       "std        6.935513      0.476838      8.210126     14.395757    154.011419   \n",
       "min       30.000000      1.000000     55.000000     10.000000   -150.000000   \n",
       "25%       50.000000      1.000000    159.000000     65.000000    120.000000   \n",
       "50%       55.000000      1.000000    165.000000     72.000000    120.000000   \n",
       "75%       60.000000      2.000000    170.000000     82.000000    140.000000   \n",
       "max       67.000000      2.000000    250.000000    200.000000  16020.000000   \n",
       "\n",
       "              bp_lo  avg_heart_rate   cholesterol          gluc         smoke  \\\n",
       "count  70000.000000    70000.000000  70000.000000  70000.000000  70000.000000   \n",
       "mean      96.630414      112.723850      1.366871      1.226457      0.088129   \n",
       "std      188.472530      122.653208      0.680250      0.572270      0.283484   \n",
       "min      -70.000000      -35.000000      1.000000      1.000000      0.000000   \n",
       "25%       80.000000      100.000000      1.000000      1.000000      0.000000   \n",
       "50%       80.000000      100.000000      1.000000      1.000000      0.000000   \n",
       "75%       90.000000      110.000000      2.000000      1.000000      0.000000   \n",
       "max    11000.000000     8050.000000      3.000000      3.000000      1.000000   \n",
       "\n",
       "               alco        active        cardio  \n",
       "count  70000.000000  70000.000000  70000.000000  \n",
       "mean       0.053771      0.803729      0.499700  \n",
       "std        0.225568      0.397179      0.500003  \n",
       "min        0.000000      0.000000      0.000000  \n",
       "25%        0.000000      1.000000      0.000000  \n",
       "50%        0.000000      1.000000      0.000000  \n",
       "75%        0.000000      1.000000      1.000000  \n",
       "max        1.000000      1.000000      1.000000  "
      ]
     },
     "execution_count": 20,
     "metadata": {},
     "output_type": "execute_result"
    }
   ],
   "source": [
    "df_copy.describe()"
   ]
  },
  {
   "cell_type": "raw",
   "metadata": {},
   "source": [
    "1. Bp_hi is having min and max values which are beyond the permissible range, basically they are depicting outliers because bp_hi can't be negative and can't be in thousands so we must decide a set range. A healthy range is around 120, so we must decide some practical range. \n",
    "We are taking the range of bp_hi from 60 to 190 ignoring the fatal range.\n",
    "\n",
    "2. Bp_lo also having the same problem and this must also be set within permissible range, for a healthy person it's 80 but we can consider the range from 30-120..ignoring the serious conditions or say outliers.\n",
    "\n",
    "3. Avg_heart_rate also out of range. The permissible range for a healthy person is around 60-100 but we are not only considering a healthy person so we can select some range beyond that but actual values in the dataset are way beyond practicality thus representing outliers.\n",
    "We can take the range from 30-300 because 300 is the dangerous range and 30 also makes person uncomfortable, not getting enough oxygen to the heart.\n",
    "\n",
    "4. BMI is physically impossible in some rows. Those rows also need to be removed.\n",
    "Persons with the healthy bmi are at lower risk and persons with the fatal bmi (11) are at the higher risk.so in that scenario we can choose some permissible range for the acceptable bmi with some possibilities.\n",
    "We can remove this fatal bmi which includes 7 rows.\n",
    "\n",
    "Rest of the factors are with right values as far as concern.\n"
   ]
  },
  {
   "cell_type": "markdown",
   "metadata": {},
   "source": [
    "### CHECK FOR BIASED DATA FOR THE DEPENDENT VARIABLE(CARDIO)"
   ]
  },
  {
   "cell_type": "code",
   "execution_count": 47,
   "metadata": {},
   "outputs": [
    {
     "data": {
      "text/plain": [
       "0    35021\n",
       "1    34979\n",
       "Name: cardio, dtype: int64"
      ]
     },
     "execution_count": 47,
     "metadata": {},
     "output_type": "execute_result"
    }
   ],
   "source": [
    "df_copy.cardio.value_counts()"
   ]
  },
  {
   "cell_type": "raw",
   "metadata": {},
   "source": [
    "looking for the biased data because if there is any biasing in the data we have to sample and make it unbiased otherwise our predictions will not be accurate.\n",
    "Data is not biased, as there is only 42 values more in 0 category which can be ignored in such a big dataset."
   ]
  },
  {
   "cell_type": "code",
   "execution_count": 71,
   "metadata": {},
   "outputs": [
    {
     "data": {
      "image/png": "[encoded data removed]",
      "text/plain": [
       "<Figure size 432x288 with 1 Axes>"
      ]
     },
     "metadata": {
      "needs_background": "light"
     },
     "output_type": "display_data"
    }
   ],
   "source": [
    "sns.countplot(df_copy.cardio,hue='cardio',saturation=0.7,data=df_copy)\n",
    "plt.legend(loc=0,bbox_to_anchor=(1,0.5))\n",
    "plt.show()"
   ]
  },
  {
   "cell_type": "markdown",
   "metadata": {},
   "source": [
    "### CHECKING FOR THE OUTLIERS VISUALLY "
   ]
  },
  {
   "cell_type": "markdown",
   "metadata": {},
   "source": [
    "#### 1. Outliers in weight"
   ]
  },
  {
   "cell_type": "code",
   "execution_count": 49,
   "metadata": {},
   "outputs": [
    {
     "data": {
      "image/png": "[encoded data removed]",
      "text/plain": [
       "<Figure size 432x288 with 1 Axes>"
      ]
     },
     "metadata": {
      "needs_background": "light"
     },
     "output_type": "display_data"
    }
   ],
   "source": [
    "sns.scatterplot(df_copy.index,df_copy.weight_in_kg,data=df_copy)\n",
    "plt.title('Outliers in Weight column')\n",
    "plt.show()"
   ]
  },
  {
   "cell_type": "raw",
   "metadata": {},
   "source": [
    "We observe outliers at 200, we can drop of them or keep them because they are not at much distance from the other data points."
   ]
  },
  {
   "cell_type": "code",
   "execution_count": 50,
   "metadata": {},
   "outputs": [
    {
     "data": {
      "image/png": "[encoded data removed]",
      "text/plain": [
       "<Figure size 432x288 with 1 Axes>"
      ]
     },
     "metadata": {
      "needs_background": "light"
     },
     "output_type": "display_data"
    }
   ],
   "source": [
    "sns.boxplot(df_copy.weight_in_kg,data=df_copy)\n",
    "plt.title('Outliers in Weight column')\n",
    "plt.show()"
   ]
  },
  {
   "cell_type": "markdown",
   "metadata": {},
   "source": [
    "#### 2. Outliers in Bp_hi"
   ]
  },
  {
   "cell_type": "code",
   "execution_count": 51,
   "metadata": {},
   "outputs": [
    {
     "data": {
      "image/png": "[encoded data removed]",
      "text/plain": [
       "<Figure size 432x288 with 1 Axes>"
      ]
     },
     "metadata": {
      "needs_background": "light"
     },
     "output_type": "display_data"
    }
   ],
   "source": [
    "sns.boxplot(df_copy.bp_hi,data=df_copy)\n",
    "plt.title('Outliers in Bp_hi column')\n",
    "plt.show()"
   ]
  },
  {
   "cell_type": "code",
   "execution_count": 52,
   "metadata": {},
   "outputs": [
    {
     "data": {
      "text/plain": [
       "age               408\n",
       "gender            408\n",
       "height_in_cm      408\n",
       "weight_in_kg      408\n",
       "bp_hi             408\n",
       "bp_lo             408\n",
       "avg_heart_rate    408\n",
       "cholesterol       408\n",
       "gluc              408\n",
       "smoke             408\n",
       "alco              408\n",
       "active            408\n",
       "cardio            408\n",
       "dtype: int64"
      ]
     },
     "execution_count": 52,
     "metadata": {},
     "output_type": "execute_result"
    }
   ],
   "source": [
    "df_copy[(df_copy['bp_hi']<MIN_HI_BP) | (df_copy['bp_hi']>MAX_HI_BP)].count()"
   ]
  },
  {
   "cell_type": "raw",
   "metadata": {},
   "source": [
    "These values are not physically possible because a person cannot have high bp more than 190 and less than 60 so these values should be removed. Our range must lie between 60-190.\n",
    "There are 408 such values which should be removed."
   ]
  },
  {
   "cell_type": "markdown",
   "metadata": {},
   "source": [
    "#### 3. Outliers in Bp_lo"
   ]
  },
  {
   "cell_type": "code",
   "execution_count": 53,
   "metadata": {},
   "outputs": [
    {
     "data": {
      "image/png": "[encoded data removed]",
      "text/plain": [
       "<Figure size 432x288 with 1 Axes>"
      ]
     },
     "metadata": {
      "needs_background": "light"
     },
     "output_type": "display_data"
    }
   ],
   "source": [
    "sns.boxplot(df_copy.bp_lo,data=df_copy)\n",
    "plt.title('Outliers in Bp_lo column')\n",
    "plt.show()"
   ]
  },
  {
   "cell_type": "code",
   "execution_count": 54,
   "metadata": {},
   "outputs": [
    {
     "data": {
      "text/plain": [
       "age               1109\n",
       "gender            1109\n",
       "height_in_cm      1109\n",
       "weight_in_kg      1109\n",
       "bp_hi             1109\n",
       "bp_lo             1109\n",
       "avg_heart_rate    1109\n",
       "cholesterol       1109\n",
       "gluc              1109\n",
       "smoke             1109\n",
       "alco              1109\n",
       "active            1109\n",
       "cardio            1109\n",
       "dtype: int64"
      ]
     },
     "execution_count": 54,
     "metadata": {},
     "output_type": "execute_result"
    }
   ],
   "source": [
    "df_copy[(df_copy['bp_lo']<MIN_LOW_BP) | (df_copy['bp_lo']>MAX_LOW_BP)].count()"
   ]
  },
  {
   "cell_type": "raw",
   "metadata": {},
   "source": [
    "These values are not physically possible because a person cannot have low bp more than 120 and less than 30 so they should be removed. Our range must lie between 30-120. There are 1109 such values which should be removed."
   ]
  },
  {
   "cell_type": "markdown",
   "metadata": {},
   "source": [
    "#### 4. Outliers in Avg_heart_rate"
   ]
  },
  {
   "cell_type": "code",
   "execution_count": 55,
   "metadata": {},
   "outputs": [
    {
     "data": {
      "image/png": "[encoded data removed]",
      "text/plain": [
       "<Figure size 432x288 with 1 Axes>"
      ]
     },
     "metadata": {
      "needs_background": "light"
     },
     "output_type": "display_data"
    }
   ],
   "source": [
    "sns.boxplot(df_copy.avg_heart_rate,data=df_copy)\n",
    "plt.title('Outliers in Avg_heart_rate column')\n",
    "plt.show()"
   ]
  },
  {
   "cell_type": "code",
   "execution_count": 56,
   "metadata": {},
   "outputs": [
    {
     "data": {
      "text/plain": [
       "age               1003\n",
       "gender            1003\n",
       "height_in_cm      1003\n",
       "weight_in_kg      1003\n",
       "bp_hi             1003\n",
       "bp_lo             1003\n",
       "avg_heart_rate    1003\n",
       "cholesterol       1003\n",
       "gluc              1003\n",
       "smoke             1003\n",
       "alco              1003\n",
       "active            1003\n",
       "cardio            1003\n",
       "dtype: int64"
      ]
     },
     "execution_count": 56,
     "metadata": {},
     "output_type": "execute_result"
    }
   ],
   "source": [
    "df_copy[(df_copy['avg_heart_rate']<MIN_AVG_HR) | (df_copy['avg_heart_rate']>MAX_AVG_HR)].count()"
   ]
  },
  {
   "cell_type": "raw",
   "metadata": {},
   "source": [
    "These values are not physically possible because a person cannot have avg heart rate  more than 300 and less than 30 so they should be removed.Our range must lie between 30-300.There are 1003 such values which should be removed."
   ]
  },
  {
   "cell_type": "markdown",
   "metadata": {},
   "source": [
    "#### 5. Outliers in BMI(BODY MASS INDEX)"
   ]
  },
  {
   "cell_type": "code",
   "execution_count": 59,
   "metadata": {},
   "outputs": [
    {
     "data": {
      "text/plain": [
       "age               20\n",
       "gender            20\n",
       "height_in_cm      20\n",
       "weight_in_kg      20\n",
       "bp_hi             20\n",
       "bp_lo             20\n",
       "avg_heart_rate    20\n",
       "cholesterol       20\n",
       "gluc              20\n",
       "smoke             20\n",
       "alco              20\n",
       "active            20\n",
       "cardio            20\n",
       "dtype: int64"
      ]
     },
     "execution_count": 59,
     "metadata": {},
     "output_type": "execute_result"
    }
   ],
   "source": [
    "df_copy[(df_copy['weight_in_kg']/pow((df_copy['height_in_cm']/100),2) < 11) | (df_copy['weight_in_kg']/pow((df_copy['height_in_cm']/100),2) > 150)].count()"
   ]
  },
  {
   "cell_type": "raw",
   "metadata": {},
   "source": [
    "There are 20 such values which are representing the fatal BMI values and these all should be removed."
   ]
  },
  {
   "cell_type": "markdown",
   "metadata": {},
   "source": [
    "### ANALYSIS FROM CORRELATION MATRIX"
   ]
  },
  {
   "cell_type": "code",
   "execution_count": 61,
   "metadata": {},
   "outputs": [
    {
     "data": {
      "text/html": [
       "<div>\n",
       "<style scoped>\n",
       "    .dataframe tbody tr th:only-of-type {\n",
       "        vertical-align: middle;\n",
       "    }\n",
       "\n",
       "    .dataframe tbody tr th {\n",
       "        vertical-align: top;\n",
       "    }\n",
       "\n",
       "    .dataframe thead th {\n",
       "        text-align: right;\n",
       "    }\n",
       "</style>\n",
       "<table border=\"1\" class=\"dataframe\">\n",
       "  <thead>\n",
       "    <tr style=\"text-align: right;\">\n",
       "      <th></th>\n",
       "      <th>age</th>\n",
       "      <th>gender</th>\n",
       "      <th>height_in_cm</th>\n",
       "      <th>weight_in_kg</th>\n",
       "      <th>bp_hi</th>\n",
       "      <th>bp_lo</th>\n",
       "      <th>avg_heart_rate</th>\n",
       "      <th>cholesterol</th>\n",
       "      <th>gluc</th>\n",
       "      <th>smoke</th>\n",
       "      <th>alco</th>\n",
       "      <th>active</th>\n",
       "      <th>cardio</th>\n",
       "    </tr>\n",
       "  </thead>\n",
       "  <tbody>\n",
       "    <tr>\n",
       "      <th>age</th>\n",
       "      <td>1.000000</td>\n",
       "      <td>-0.022793</td>\n",
       "      <td>-0.081302</td>\n",
       "      <td>0.053644</td>\n",
       "      <td>0.020624</td>\n",
       "      <td>0.017739</td>\n",
       "      <td>0.026578</td>\n",
       "      <td>0.154273</td>\n",
       "      <td>0.098768</td>\n",
       "      <td>-0.047525</td>\n",
       "      <td>-0.029377</td>\n",
       "      <td>-0.009896</td>\n",
       "      <td>0.238171</td>\n",
       "    </tr>\n",
       "    <tr>\n",
       "      <th>gender</th>\n",
       "      <td>-0.022793</td>\n",
       "      <td>1.000000</td>\n",
       "      <td>0.499033</td>\n",
       "      <td>0.155406</td>\n",
       "      <td>0.006005</td>\n",
       "      <td>0.015254</td>\n",
       "      <td>0.015490</td>\n",
       "      <td>-0.035821</td>\n",
       "      <td>-0.020491</td>\n",
       "      <td>0.338135</td>\n",
       "      <td>0.170966</td>\n",
       "      <td>0.005866</td>\n",
       "      <td>0.008109</td>\n",
       "    </tr>\n",
       "    <tr>\n",
       "      <th>height_in_cm</th>\n",
       "      <td>-0.081302</td>\n",
       "      <td>0.499033</td>\n",
       "      <td>1.000000</td>\n",
       "      <td>0.290968</td>\n",
       "      <td>0.005488</td>\n",
       "      <td>0.006150</td>\n",
       "      <td>0.008171</td>\n",
       "      <td>-0.050226</td>\n",
       "      <td>-0.018595</td>\n",
       "      <td>0.187989</td>\n",
       "      <td>0.094419</td>\n",
       "      <td>-0.006570</td>\n",
       "      <td>-0.010821</td>\n",
       "    </tr>\n",
       "    <tr>\n",
       "      <th>weight_in_kg</th>\n",
       "      <td>0.053644</td>\n",
       "      <td>0.155406</td>\n",
       "      <td>0.290968</td>\n",
       "      <td>1.000000</td>\n",
       "      <td>0.030702</td>\n",
       "      <td>0.043710</td>\n",
       "      <td>0.052859</td>\n",
       "      <td>0.141768</td>\n",
       "      <td>0.106857</td>\n",
       "      <td>0.067780</td>\n",
       "      <td>0.067113</td>\n",
       "      <td>-0.016867</td>\n",
       "      <td>0.181660</td>\n",
       "    </tr>\n",
       "    <tr>\n",
       "      <th>bp_hi</th>\n",
       "      <td>0.020624</td>\n",
       "      <td>0.006005</td>\n",
       "      <td>0.005488</td>\n",
       "      <td>0.030702</td>\n",
       "      <td>1.000000</td>\n",
       "      <td>0.016086</td>\n",
       "      <td>0.640192</td>\n",
       "      <td>0.023778</td>\n",
       "      <td>0.011841</td>\n",
       "      <td>-0.000922</td>\n",
       "      <td>0.001408</td>\n",
       "      <td>-0.000033</td>\n",
       "      <td>0.054475</td>\n",
       "    </tr>\n",
       "    <tr>\n",
       "      <th>bp_lo</th>\n",
       "      <td>0.017739</td>\n",
       "      <td>0.015254</td>\n",
       "      <td>0.006150</td>\n",
       "      <td>0.043710</td>\n",
       "      <td>0.016086</td>\n",
       "      <td>1.000000</td>\n",
       "      <td>0.778414</td>\n",
       "      <td>0.024019</td>\n",
       "      <td>0.010806</td>\n",
       "      <td>0.005186</td>\n",
       "      <td>0.010601</td>\n",
       "      <td>0.004780</td>\n",
       "      <td>0.065719</td>\n",
       "    </tr>\n",
       "    <tr>\n",
       "      <th>avg_heart_rate</th>\n",
       "      <td>0.026578</td>\n",
       "      <td>0.015490</td>\n",
       "      <td>0.008171</td>\n",
       "      <td>0.052859</td>\n",
       "      <td>0.640192</td>\n",
       "      <td>0.778414</td>\n",
       "      <td>1.000000</td>\n",
       "      <td>0.033383</td>\n",
       "      <td>0.015736</td>\n",
       "      <td>0.003406</td>\n",
       "      <td>0.009029</td>\n",
       "      <td>0.003652</td>\n",
       "      <td>0.084694</td>\n",
       "    </tr>\n",
       "    <tr>\n",
       "      <th>cholesterol</th>\n",
       "      <td>0.154273</td>\n",
       "      <td>-0.035821</td>\n",
       "      <td>-0.050226</td>\n",
       "      <td>0.141768</td>\n",
       "      <td>0.023778</td>\n",
       "      <td>0.024019</td>\n",
       "      <td>0.033383</td>\n",
       "      <td>1.000000</td>\n",
       "      <td>0.451578</td>\n",
       "      <td>0.010354</td>\n",
       "      <td>0.035760</td>\n",
       "      <td>0.009911</td>\n",
       "      <td>0.221147</td>\n",
       "    </tr>\n",
       "    <tr>\n",
       "      <th>gluc</th>\n",
       "      <td>0.098768</td>\n",
       "      <td>-0.020491</td>\n",
       "      <td>-0.018595</td>\n",
       "      <td>0.106857</td>\n",
       "      <td>0.011841</td>\n",
       "      <td>0.010806</td>\n",
       "      <td>0.015736</td>\n",
       "      <td>0.451578</td>\n",
       "      <td>1.000000</td>\n",
       "      <td>-0.004756</td>\n",
       "      <td>0.011246</td>\n",
       "      <td>-0.006770</td>\n",
       "      <td>0.089307</td>\n",
       "    </tr>\n",
       "    <tr>\n",
       "      <th>smoke</th>\n",
       "      <td>-0.047525</td>\n",
       "      <td>0.338135</td>\n",
       "      <td>0.187989</td>\n",
       "      <td>0.067780</td>\n",
       "      <td>-0.000922</td>\n",
       "      <td>0.005186</td>\n",
       "      <td>0.003406</td>\n",
       "      <td>0.010354</td>\n",
       "      <td>-0.004756</td>\n",
       "      <td>1.000000</td>\n",
       "      <td>0.340094</td>\n",
       "      <td>0.025858</td>\n",
       "      <td>-0.015486</td>\n",
       "    </tr>\n",
       "    <tr>\n",
       "      <th>alco</th>\n",
       "      <td>-0.029377</td>\n",
       "      <td>0.170966</td>\n",
       "      <td>0.094419</td>\n",
       "      <td>0.067113</td>\n",
       "      <td>0.001408</td>\n",
       "      <td>0.010601</td>\n",
       "      <td>0.009029</td>\n",
       "      <td>0.035760</td>\n",
       "      <td>0.011246</td>\n",
       "      <td>0.340094</td>\n",
       "      <td>1.000000</td>\n",
       "      <td>0.025476</td>\n",
       "      <td>-0.007330</td>\n",
       "    </tr>\n",
       "    <tr>\n",
       "      <th>active</th>\n",
       "      <td>-0.009896</td>\n",
       "      <td>0.005866</td>\n",
       "      <td>-0.006570</td>\n",
       "      <td>-0.016867</td>\n",
       "      <td>-0.000033</td>\n",
       "      <td>0.004780</td>\n",
       "      <td>0.003652</td>\n",
       "      <td>0.009911</td>\n",
       "      <td>-0.006770</td>\n",
       "      <td>0.025858</td>\n",
       "      <td>0.025476</td>\n",
       "      <td>1.000000</td>\n",
       "      <td>-0.035653</td>\n",
       "    </tr>\n",
       "    <tr>\n",
       "      <th>cardio</th>\n",
       "      <td>0.238171</td>\n",
       "      <td>0.008109</td>\n",
       "      <td>-0.010821</td>\n",
       "      <td>0.181660</td>\n",
       "      <td>0.054475</td>\n",
       "      <td>0.065719</td>\n",
       "      <td>0.084694</td>\n",
       "      <td>0.221147</td>\n",
       "      <td>0.089307</td>\n",
       "      <td>-0.015486</td>\n",
       "      <td>-0.007330</td>\n",
       "      <td>-0.035653</td>\n",
       "      <td>1.000000</td>\n",
       "    </tr>\n",
       "  </tbody>\n",
       "</table>\n",
       "</div>"
      ],
      "text/plain": [
       "                     age    gender  height_in_cm  weight_in_kg     bp_hi  \\\n",
       "age             1.000000 -0.022793     -0.081302      0.053644  0.020624   \n",
       "gender         -0.022793  1.000000      0.499033      0.155406  0.006005   \n",
       "height_in_cm   -0.081302  0.499033      1.000000      0.290968  0.005488   \n",
       "weight_in_kg    0.053644  0.155406      0.290968      1.000000  0.030702   \n",
       "bp_hi           0.020624  0.006005      0.005488      0.030702  1.000000   \n",
       "bp_lo           0.017739  0.015254      0.006150      0.043710  0.016086   \n",
       "avg_heart_rate  0.026578  0.015490      0.008171      0.052859  0.640192   \n",
       "cholesterol     0.154273 -0.035821     -0.050226      0.141768  0.023778   \n",
       "gluc            0.098768 -0.020491     -0.018595      0.106857  0.011841   \n",
       "smoke          -0.047525  0.338135      0.187989      0.067780 -0.000922   \n",
       "alco           -0.029377  0.170966      0.094419      0.067113  0.001408   \n",
       "active         -0.009896  0.005866     -0.006570     -0.016867 -0.000033   \n",
       "cardio          0.238171  0.008109     -0.010821      0.181660  0.054475   \n",
       "\n",
       "                   bp_lo  avg_heart_rate  cholesterol      gluc     smoke  \\\n",
       "age             0.017739        0.026578     0.154273  0.098768 -0.047525   \n",
       "gender          0.015254        0.015490    -0.035821 -0.020491  0.338135   \n",
       "height_in_cm    0.006150        0.008171    -0.050226 -0.018595  0.187989   \n",
       "weight_in_kg    0.043710        0.052859     0.141768  0.106857  0.067780   \n",
       "bp_hi           0.016086        0.640192     0.023778  0.011841 -0.000922   \n",
       "bp_lo           1.000000        0.778414     0.024019  0.010806  0.005186   \n",
       "avg_heart_rate  0.778414        1.000000     0.033383  0.015736  0.003406   \n",
       "cholesterol     0.024019        0.033383     1.000000  0.451578  0.010354   \n",
       "gluc            0.010806        0.015736     0.451578  1.000000 -0.004756   \n",
       "smoke           0.005186        0.003406     0.010354 -0.004756  1.000000   \n",
       "alco            0.010601        0.009029     0.035760  0.011246  0.340094   \n",
       "active          0.004780        0.003652     0.009911 -0.006770  0.025858   \n",
       "cardio          0.065719        0.084694     0.221147  0.089307 -0.015486   \n",
       "\n",
       "                    alco    active    cardio  \n",
       "age            -0.029377 -0.009896  0.238171  \n",
       "gender          0.170966  0.005866  0.008109  \n",
       "height_in_cm    0.094419 -0.006570 -0.010821  \n",
       "weight_in_kg    0.067113 -0.016867  0.181660  \n",
       "bp_hi           0.001408 -0.000033  0.054475  \n",
       "bp_lo           0.010601  0.004780  0.065719  \n",
       "avg_heart_rate  0.009029  0.003652  0.084694  \n",
       "cholesterol     0.035760  0.009911  0.221147  \n",
       "gluc            0.011246 -0.006770  0.089307  \n",
       "smoke           0.340094  0.025858 -0.015486  \n",
       "alco            1.000000  0.025476 -0.007330  \n",
       "active          0.025476  1.000000 -0.035653  \n",
       "cardio         -0.007330 -0.035653  1.000000  "
      ]
     },
     "execution_count": 61,
     "metadata": {},
     "output_type": "execute_result"
    }
   ],
   "source": [
    "correlation=df_copy.corr()\n",
    "correlation"
   ]
  },
  {
   "cell_type": "code",
   "execution_count": 62,
   "metadata": {},
   "outputs": [
    {
     "data": {
      "text/plain": [
       "<AxesSubplot:>"
      ]
     },
     "execution_count": 62,
     "metadata": {},
     "output_type": "execute_result"
    },
    {
     "data": {
      "image/png": "[encoded data removed]",
      "text/plain": [
       "<Figure size 432x288 with 2 Axes>"
      ]
     },
     "metadata": {
      "needs_background": "light"
     },
     "output_type": "display_data"
    }
   ],
   "source": [
    "sns.heatmap(correlation)"
   ]
  },
  {
   "cell_type": "raw",
   "metadata": {},
   "source": [
    "From the correlation matrix we can figure out\n",
    "\n",
    "•Avg_heart_rate is strongly correlated with the Bp_hi (0.64) and Bp_lo (0.8) \n",
    "•There is no significant correlation among the remaining independent variables. We can see them visually also.\n",
    "•There is correlation between height and gender but not so significant (0.4), which we can ignore."
   ]
  },
  {
   "cell_type": "markdown",
   "metadata": {},
   "source": [
    "## VISUAL INTERPRETATIONS"
   ]
  },
  {
   "cell_type": "markdown",
   "metadata": {},
   "source": [
    "#### INTERPRETATIONS FROM HIGHLY CORRELATED VARIABLES."
   ]
  },
  {
   "cell_type": "markdown",
   "metadata": {},
   "source": [
    "##### 1. Correlation between Avg_heart_rate and Bp_hi"
   ]
  },
  {
   "cell_type": "code",
   "execution_count": 68,
   "metadata": {},
   "outputs": [
    {
     "data": {
      "image/png": "[encoded data removed]",
      "text/plain": [
       "<Figure size 432x288 with 1 Axes>"
      ]
     },
     "metadata": {
      "needs_background": "light"
     },
     "output_type": "display_data"
    }
   ],
   "source": [
    "sns.scatterplot(x=df_copy[(df_copy['bp_hi']>80) & (df_copy['bp_hi']<=190)].bp_hi,y=df_copy[(df_copy['avg_heart_rate']>30) & (df_copy['avg_heart_rate']<=300)].avg_heart_rate,data=df_copy)\n",
    "plt.title('Correlation between Bp_hi and Avg_heart_rate')\n",
    "plt.show()"
   ]
  },
  {
   "cell_type": "raw",
   "metadata": {},
   "source": [
    "With scatter plot we can clearly see the relation between the Avg heart rate and the Bp_hi which has positive correlation (0.8)"
   ]
  },
  {
   "cell_type": "markdown",
   "metadata": {},
   "source": [
    "##### 2. Correlation between Avg_heart_rate and Bp_lo"
   ]
  },
  {
   "cell_type": "code",
   "execution_count": 70,
   "metadata": {},
   "outputs": [
    {
     "data": {
      "image/png": "[encoded data removed]",
      "text/plain": [
       "<Figure size 432x288 with 1 Axes>"
      ]
     },
     "metadata": {
      "needs_background": "light"
     },
     "output_type": "display_data"
    }
   ],
   "source": [
    "sns.scatterplot(x=df_copy[(df_copy['bp_lo']>50) & (df_copy['bp_lo']<=120)].bp_lo,y=df_copy[(df_copy['avg_heart_rate']>30) & (df_copy['avg_heart_rate']<=300)].avg_heart_rate,data=df_copy)\n",
    "plt.title('Correlation between Bp_lo and Avg_heart_rate')\n",
    "plt.show()"
   ]
  },
  {
   "cell_type": "raw",
   "metadata": {},
   "source": [
    "Visually we can see that Bp_lo and Avg_heart_rate are positively correlated (0.64) with each other which means that with the increase in Bp_lo, Avg_heart_rate also increasing thus this plot is satisfying the correlation matrix."
   ]
  },
  {
   "cell_type": "markdown",
   "metadata": {},
   "source": [
    "#### Conclusion from above visuals"
   ]
  },
  {
   "cell_type": "raw",
   "metadata": {},
   "source": [
    "AS we have seen the strong correlation between avg heart rate and the bp low and bp high, so for the further analysis we can drop avg heart rate because they are correlated so they are providing the same information. As one of them is increasing the other is automatically increasing.\n",
    "\n",
    "Say if bp high is increasing at the double rate then the avg heart rate is also increasing at the same pace, this doesn't providing us something unique information so we can think of dropping avg heart rate.\n",
    "\n",
    "When we will go with the model analysis, we keep avg heart rate as a feature, if our model is predicting accurately else we can drop it."
   ]
  },
  {
   "cell_type": "markdown",
   "metadata": {},
   "source": [
    "#### INTERPRETATIONS FROM AFFECT OF INDEPENDENT VARIABLES ON DEPENDENT VARIABLES."
   ]
  },
  {
   "cell_type": "markdown",
   "metadata": {},
   "source": [
    "##### 1. Affect of Bp_hi on Cardio\n",
    "##### When cardio is at category 1\n"
   ]
  },
  {
   "cell_type": "code",
   "execution_count": 73,
   "metadata": {},
   "outputs": [
    {
     "data": {
      "image/png": "[encoded data removed]",
      "text/plain": [
       "<Figure size 432x288 with 1 Axes>"
      ]
     },
     "metadata": {
      "needs_background": "light"
     },
     "output_type": "display_data"
    }
   ],
   "source": [
    "# affect of bp_hi on cardio\n",
    "sns.histplot(x=df_copy[(df['cardio']==1) & (df_copy['bp_hi']<MAX_HI_BP) & (df_copy['bp_hi']>MIN_HI_BP)].bp_hi,data=df_copy,binwidth=5)\n",
    "plt.title('Affect of Bp_hi on cardio(1)')\n",
    "plt.show()"
   ]
  },
  {
   "cell_type": "code",
   "execution_count": 76,
   "metadata": {},
   "outputs": [
    {
     "data": {
      "text/plain": [
       "0.35569720541630656"
      ]
     },
     "execution_count": 76,
     "metadata": {},
     "output_type": "execute_result"
    }
   ],
   "source": [
    "df_copy[(df_copy['cardio']==1) & (df_copy['bp_hi']<125) & (df_copy['bp_hi']>119)].bp_hi.count()/df_copy[(df_copy['bp_hi']<125) & (df_copy['bp_hi']>119)].bp_hi.count()"
   ]
  },
  {
   "cell_type": "code",
   "execution_count": 77,
   "metadata": {},
   "outputs": [
    {
     "data": {
      "text/plain": [
       "0.8166980539861896"
      ]
     },
     "execution_count": 77,
     "metadata": {},
     "output_type": "execute_result"
    }
   ],
   "source": [
    "df_copy[(df_copy['cardio']==1) & (df_copy['bp_hi']<145) & (df_copy['bp_hi']>139)].bp_hi.count()/df_copy[(df['bp_hi']<145) & (df_copy['bp_hi']>139)].bp_hi.count()"
   ]
  },
  {
   "cell_type": "raw",
   "metadata": {},
   "source": [
    "If we consider cardio=1 as an unhealthy/at risk person.\n",
    "Although healthy high bp range is 120, and some persons are having this healthy range despite of risk category.\n",
    "We can see that there are lot of persons having bp range beyond 120 which is harmful for a person thus contributing to the cardiac risk.\n",
    "\n",
    "*The data points at 120 are much higher than the remaining ranges or we can say that data is biased at 120.\n",
    "\n",
    "*When we see the percentage of persons having cardiac risk from 120-125, although there is high peak but still we are getting only 35.56% persons in this category.\n",
    "\n",
    "*When we see the percentage of persons having cardiac risk from 140-145, although there is small peak but still we are getting only 81.66% persons in this category.\n",
    "\n",
    "*So we can say that persons with range of high bp beyond 120mg are more in  cardiac risk category."
   ]
  },
  {
   "cell_type": "markdown",
   "metadata": {},
   "source": [
    "##### When cardio is at category 0"
   ]
  },
  {
   "cell_type": "code",
   "execution_count": 80,
   "metadata": {},
   "outputs": [
    {
     "data": {
      "image/png": "[encoded data removed]",
      "text/plain": [
       "<Figure size 432x288 with 1 Axes>"
      ]
     },
     "metadata": {
      "needs_background": "light"
     },
     "output_type": "display_data"
    }
   ],
   "source": [
    "sns.histplot(x=df_copy[(df_copy['cardio']==0) & (df_copy['bp_hi']<MAX_HI_BP) & (df_copy['bp_hi']>MIN_HI_BP)].bp_hi,data=df_copy,binwidth=5)\n",
    "plt.title('Affect of Bp_hi on cardio(0)')\n",
    "plt.show()"
   ]
  },
  {
   "cell_type": "code",
   "execution_count": 83,
   "metadata": {},
   "outputs": [
    {
     "data": {
      "text/plain": [
       "0.6443027945836934"
      ]
     },
     "execution_count": 83,
     "metadata": {},
     "output_type": "execute_result"
    }
   ],
   "source": [
    "df_copy[(df_copy['cardio']==0) & (df_copy['bp_hi']<125) & (df_copy['bp_hi']>119)].bp_hi.count()/df_copy[(df_copy['bp_hi']<125) & (df_copy['bp_hi']>119)].bp_hi.count()"
   ]
  },
  {
   "cell_type": "code",
   "execution_count": 84,
   "metadata": {},
   "outputs": [
    {
     "data": {
      "text/plain": [
       "0.18330194601381042"
      ]
     },
     "execution_count": 84,
     "metadata": {},
     "output_type": "execute_result"
    }
   ],
   "source": [
    "df_copy[(df_copy['cardio']==0) & (df_copy['bp_hi']<145) & (df_copy['bp_hi']>139)].bp_hi.count()/df_copy[(df_copy['bp_hi']<145) & (df_copy['bp_hi']>139)].bp_hi.count()"
   ]
  },
  {
   "cell_type": "raw",
   "metadata": {},
   "source": [
    "*If we consider cardio=0 as healthy/at no risk person.\n",
    "Healthy high bp range is 120, and most of persons have this range.\n",
    "There is very less number of persons having unhealthy range. So we can say that the persons with the ideal high bp are less prone to the cardiac risk.\n",
    "\n",
    "\n",
    "*The data points at 120 are much higher than the remaining ranges or we can say that data is biased at 120.\n",
    "\n",
    "*When we see the percentage from range 120-125, we found that 64.43% persons having Bp_hi as 120 which is healthy range and 18.33% persons are beyond healthy range (if we consider,140-145).\n",
    "\n",
    "*We can say that persons with range of 120 have higher percentage in no risk category.\n",
    "*Higher high bp leading persons prone to the cardiac risk."
   ]
  },
  {
   "cell_type": "markdown",
   "metadata": {},
   "source": [
    "##### 2. Affect of Bp_lo on Cardio\n",
    "##### When cardio is at category 1\n"
   ]
  },
  {
   "cell_type": "code",
   "execution_count": 89,
   "metadata": {},
   "outputs": [
    {
     "data": {
      "image/png": "[encoded data removed]",
      "text/plain": [
       "<Figure size 432x288 with 1 Axes>"
      ]
     },
     "metadata": {
      "needs_background": "light"
     },
     "output_type": "display_data"
    }
   ],
   "source": [
    "sns.histplot(x=df_copy[(df_copy['cardio']==1) & (df_copy['bp_lo']<MAX_LOW_BP) & (df_copy['bp_lo']>MIN_LOW_BP)].bp_lo,data=df_copy,binwidth=5)\n",
    "plt.title('Affect of Bp_lo on cardio(1)')\n",
    "plt.show()"
   ]
  },
  {
   "cell_type": "code",
   "execution_count": 86,
   "metadata": {},
   "outputs": [
    {
     "data": {
      "text/plain": [
       "0.4250207362068472"
      ]
     },
     "execution_count": 86,
     "metadata": {},
     "output_type": "execute_result"
    }
   ],
   "source": [
    "df_copy[(df_copy['cardio']==1) & (df_copy['bp_lo']<85) & (df_copy['bp_lo']>79)].bp_lo.count()/df_copy[(df_copy['bp_lo']<85) & (df_copy['bp_lo']>79)].bp_lo.count()"
   ]
  },
  {
   "cell_type": "code",
   "execution_count": 88,
   "metadata": {},
   "outputs": [
    {
     "data": {
      "text/plain": [
       "0.7498262199360489"
      ]
     },
     "execution_count": 88,
     "metadata": {},
     "output_type": "execute_result"
    }
   ],
   "source": [
    "df_copy[(df['cardio']==1) & (df_copy['bp_lo']<95) & (df_copy['bp_lo']>89)].bp_lo.count()/df_copy[(df_copy['bp_lo']<95) & (df_copy['bp_lo']>89)].bp_lo.count()"
   ]
  },
  {
   "cell_type": "raw",
   "metadata": {},
   "source": [
    "*Low bp is affecting cardio.\n",
    "Considering cardio=1(at cardiac risk)\n",
    "Healthy low bp range is 80, and we are observing more number of persons in this category despite of cardiac risk category because data is biased at range 80.\n",
    "\n",
    "*FOR this we can calculate the percentages at these levels and figure out the actual numbers.\n",
    "*When we see the percentage from range 80-85, we found that 42.50% persons having Bp_lo as 80 which is healthy range\n",
    "\n",
    "*When we see the percentage from range 90-95, we found that 83.81% persons having Bp_lo as 90 which is not a healthy range. Despite of small peak as compare to peak at 80, there is much higher percentage.\n",
    "\n",
    "*We have observed that persons having lo_bp range higher than 80, are at cardiac risk."
   ]
  },
  {
   "cell_type": "markdown",
   "metadata": {},
   "source": [
    "##### When cardio is at category 0"
   ]
  },
  {
   "cell_type": "code",
   "execution_count": 90,
   "metadata": {},
   "outputs": [
    {
     "data": {
      "image/png": "[encoded data removed]",
      "text/plain": [
       "<Figure size 432x288 with 1 Axes>"
      ]
     },
     "metadata": {
      "needs_background": "light"
     },
     "output_type": "display_data"
    }
   ],
   "source": [
    "sns.histplot(x=df_copy[(df_copy['cardio']==0) & (df_copy['bp_lo']<MAX_LOW_BP) & (df_copy['bp_lo']>MIN_LOW_BP)].bp_lo,data=df_copy,binwidth=5)\n",
    "plt.title('Affect of Bp_lo on cardio(0)')\n",
    "plt.show()"
   ]
  },
  {
   "cell_type": "code",
   "execution_count": 91,
   "metadata": {},
   "outputs": [
    {
     "data": {
      "text/plain": [
       "0.5749792637931528"
      ]
     },
     "execution_count": 91,
     "metadata": {},
     "output_type": "execute_result"
    }
   ],
   "source": [
    "df_copy[(df_copy['cardio']==0) & (df_copy['bp_lo']<85) & (df_copy['bp_lo']>79)].bp_lo.count()/df_copy[(df['bp_lo']<85) & (df_copy['bp_lo']>79)].bp_lo.count()"
   ]
  },
  {
   "cell_type": "code",
   "execution_count": 92,
   "metadata": {},
   "outputs": [
    {
     "data": {
      "text/plain": [
       "0.2501737800639511"
      ]
     },
     "execution_count": 92,
     "metadata": {},
     "output_type": "execute_result"
    }
   ],
   "source": [
    "df_copy[(df_copy['cardio']==0) & (df_copy['bp_lo']<95) & (df_copy['bp_lo']>89)].bp_lo.count()/df_copy[(df_copy['bp_lo']<95) & (df_copy['bp_lo']>89)].bp_lo.count()"
   ]
  },
  {
   "cell_type": "raw",
   "metadata": {},
   "source": [
    "*Low bp is affecting cardio.\n",
    "*Considering cardio=0(at no cardiac risk)\n",
    "*The healthy persons are having low bp range as 80mg, beyond this range there are very less no. of persons thus predicting that the persons with 80mg bp are less prone to cardiac arrest.\n",
    "\n",
    "*When we see the percentage from range 80-85, we found that 57.49% persons having Bp_lo as 80 which is healthy range and 25% persons are beyond healthy range (if we consider,90-95).\n",
    "\n",
    "*We have observed that persons having lo_bp range at 80, are at no cardiac risk."
   ]
  },
  {
   "cell_type": "markdown",
   "metadata": {},
   "source": [
    "##### 3. Affect of Age on Cardio"
   ]
  },
  {
   "cell_type": "code",
   "execution_count": 108,
   "metadata": {},
   "outputs": [
    {
     "data": {
      "text/plain": [
       "<matplotlib.legend.Legend at 0x19d283f8ee0>"
      ]
     },
     "execution_count": 108,
     "metadata": {},
     "output_type": "execute_result"
    },
    {
     "data": {
      "image/png": "[encoded data removed]",
      "text/plain": [
       "<Figure size 432x288 with 1 Axes>"
      ]
     },
     "metadata": {
      "needs_background": "light"
     },
     "output_type": "display_data"
    }
   ],
   "source": [
    "sns.countplot(x=df_copy.cardio,data=df_copy,hue='age',palette=\"husl\")\n",
    "plt.legend(loc=6,bbox_to_anchor=(1,0.5))"
   ]
  },
  {
   "cell_type": "raw",
   "metadata": {},
   "source": [
    "Cardio 0 - at no risk\n",
    "Cardio 1 - at risk\n",
    "This plot is depicting that the persons of age below 40 are at no risk or negligible.\n",
    "At cardio 1, pink plots are more. Depicting that at higher age, risk of cardiac arrest is also increased."
   ]
  },
  {
   "cell_type": "markdown",
   "metadata": {},
   "source": [
    "##### 4. Affect of Gender on Cardio"
   ]
  },
  {
   "cell_type": "code",
   "execution_count": 110,
   "metadata": {},
   "outputs": [
    {
     "data": {
      "image/png": "[encoded data removed]",
      "text/plain": [
       "<Figure size 432x288 with 1 Axes>"
      ]
     },
     "metadata": {
      "needs_background": "light"
     },
     "output_type": "display_data"
    }
   ],
   "source": [
    "sns.countplot(df_copy.cardio,hue='gender',data=df_copy)\n",
    "plt.title('Affect of Gender on cardio')\n",
    "plt.show()"
   ]
  },
  {
   "cell_type": "raw",
   "metadata": {},
   "source": [
    "Consider\n",
    "Gender 1 as male\n",
    "Gender 2 as female\n",
    "\n",
    "The data is evenly distributed, there is no impact of gender on the cardio. As there are equal number of males in cardio 0 and cardio 1 and same with the case with the females.\n",
    "\n",
    "So, we can't say take the cardiac risk is more in females or males."
   ]
  },
  {
   "cell_type": "markdown",
   "metadata": {},
   "source": [
    "##### 5. Affect of Glucose level on Cardio"
   ]
  },
  {
   "cell_type": "code",
   "execution_count": 111,
   "metadata": {},
   "outputs": [
    {
     "data": {
      "image/png": "[encoded data removed]",
      "text/plain": [
       "<Figure size 432x288 with 1 Axes>"
      ]
     },
     "metadata": {
      "needs_background": "light"
     },
     "output_type": "display_data"
    }
   ],
   "source": [
    "sns.countplot(df_copy.cardio,hue='gluc',data=df_copy)\n",
    "plt.title('Affect of Glucose on cardio')\n",
    "plt.show()\n",
    "# gluc-1    59479\n",
    "# gluc-3     5331\n",
    "# gluc-2     5190"
   ]
  },
  {
   "cell_type": "raw",
   "metadata": {},
   "source": [
    "Persons with increased glucose type-2 & type-3 and reduced glucose type-1 are prone to cardiac risk."
   ]
  },
  {
   "cell_type": "markdown",
   "metadata": {},
   "source": [
    "##### 6. Affect of Cholesterol level on Cardio"
   ]
  },
  {
   "cell_type": "code",
   "execution_count": 113,
   "metadata": {},
   "outputs": [
    {
     "data": {
      "image/png": "[encoded data removed]",
      "text/plain": [
       "<Figure size 432x288 with 1 Axes>"
      ]
     },
     "metadata": {
      "needs_background": "light"
     },
     "output_type": "display_data"
    }
   ],
   "source": [
    "sns.countplot(df_copy.cardio,hue='cholesterol',data=df_copy)\n",
    "plt.title('Affect of cholesterol on cardio')\n",
    "plt.show()\n",
    "# 1    52385\n",
    "# 2     9549\n",
    "# 3     8066"
   ]
  },
  {
   "cell_type": "raw",
   "metadata": {},
   "source": [
    "Persons with increased Cholesterol type-2 & type-3 and reduced glucose type-1 are prone to cardiac risk."
   ]
  },
  {
   "cell_type": "markdown",
   "metadata": {},
   "source": [
    "##### 7. Affect of Active on Cardio"
   ]
  },
  {
   "cell_type": "code",
   "execution_count": 114,
   "metadata": {},
   "outputs": [
    {
     "data": {
      "image/png": "[encoded data removed]",
      "text/plain": [
       "<Figure size 432x288 with 1 Axes>"
      ]
     },
     "metadata": {
      "needs_background": "light"
     },
     "output_type": "display_data"
    }
   ],
   "source": [
    "sns.countplot(df_copy.cardio,hue='active',data=df_copy)\n",
    "plt.title('Affect of Active on cardio')\n",
    "plt.show()\n",
    "# 0    35021\n",
    "# 1    34979"
   ]
  },
  {
   "cell_type": "raw",
   "metadata": {},
   "source": [
    "Inactivity doesn't have a significant impact on cardiac risk but if some persons who are active and if they reduce or stop workout then they are slightly more prone to the cardiac risk."
   ]
  },
  {
   "cell_type": "markdown",
   "metadata": {},
   "source": [
    "##### 8. Affect of Smoke on Cardio"
   ]
  },
  {
   "cell_type": "code",
   "execution_count": 115,
   "metadata": {},
   "outputs": [
    {
     "data": {
      "image/png": "[encoded data removed]",
      "text/plain": [
       "<Figure size 432x288 with 1 Axes>"
      ]
     },
     "metadata": {
      "needs_background": "light"
     },
     "output_type": "display_data"
    }
   ],
   "source": [
    "sns.countplot(df_copy.cardio,hue='smoke',data=df_copy)\n",
    "plt.title('Affect of Smoke on cardio')\n",
    "plt.show()\n",
    "# 0    63831\n",
    "# 1     6169"
   ]
  },
  {
   "cell_type": "raw",
   "metadata": {},
   "source": [
    "Cardio doesn't affect by the smokers. We can see the almost same of the smokers in cardiac risk and no cardiac risk."
   ]
  },
  {
   "cell_type": "markdown",
   "metadata": {},
   "source": [
    "##### 9. Affect of Alcohol Consumption on Cardio"
   ]
  },
  {
   "cell_type": "code",
   "execution_count": 116,
   "metadata": {},
   "outputs": [
    {
     "data": {
      "image/png": "[encoded data removed]",
      "text/plain": [
       "<Figure size 432x288 with 1 Axes>"
      ]
     },
     "metadata": {
      "needs_background": "light"
     },
     "output_type": "display_data"
    }
   ],
   "source": [
    "sns.countplot(df_copy.cardio,hue='alco',data=df_copy)\n",
    "plt.title('Affect of Alcohol consumption on cardio')\n",
    "plt.show()\n",
    "# 0    66236\n",
    "# 1     3764"
   ]
  },
  {
   "cell_type": "raw",
   "metadata": {},
   "source": [
    "Alcohol consumption is not affecting the cardio. Which means a person is consuming alcohol or not doesn't affect the cardiac risk."
   ]
  },
  {
   "cell_type": "markdown",
   "metadata": {},
   "source": [
    "##### 9. Affect of Avg_heart_rate on Cardio\n",
    "#####  When cardio is at category 1\n"
   ]
  },
  {
   "cell_type": "code",
   "execution_count": 117,
   "metadata": {},
   "outputs": [
    {
     "data": {
      "image/png": "[encoded data removed]",
      "text/plain": [
       "<Figure size 432x288 with 1 Axes>"
      ]
     },
     "metadata": {
      "needs_background": "light"
     },
     "output_type": "display_data"
    }
   ],
   "source": [
    "sns.histplot(x=df_copy[(df_copy['cardio']==1) & (df_copy['avg_heart_rate']<150) & (df_copy['avg_heart_rate']>50)].avg_heart_rate,data=df_copy,binwidth=5)\n",
    "plt.title('Effect of avg_heart_rate on cardio=1')\n",
    "plt.show()"
   ]
  },
  {
   "cell_type": "code",
   "execution_count": 118,
   "metadata": {},
   "outputs": [
    {
     "data": {
      "text/plain": [
       "0.36323099992107966"
      ]
     },
     "execution_count": 118,
     "metadata": {},
     "output_type": "execute_result"
    }
   ],
   "source": [
    "df_copy[(df_copy['cardio']==1) & (df_copy['avg_heart_rate']>99) & (df_copy['avg_heart_rate']<105)].avg_heart_rate.count()/df_copy[ (df_copy['avg_heart_rate']>99) & (df_copy['avg_heart_rate']<105)].avg_heart_rate.count()"
   ]
  },
  {
   "cell_type": "code",
   "execution_count": 119,
   "metadata": {},
   "outputs": [
    {
     "data": {
      "text/plain": [
       "0.7076090521482453"
      ]
     },
     "execution_count": 119,
     "metadata": {},
     "output_type": "execute_result"
    }
   ],
   "source": [
    "df_copy[(df_copy['cardio']==1) & (df_copy['avg_heart_rate']>109) & (df_copy['avg_heart_rate']<115)].avg_heart_rate.count()/df_copy[ (df_copy['avg_heart_rate']>109) & (df_copy['avg_heart_rate']<115)].avg_heart_rate.count()"
   ]
  },
  {
   "cell_type": "raw",
   "metadata": {},
   "source": [
    "*Healthy Average_heart_rate range is 60-100 for an adult, although there is different range for different age group persons. But for standard we assume the above specified range.\n",
    "\n",
    "*We can see that the bar of 100 is max and the ranges beyond the bar is smaller as compared to the bar of the 100. This is happening because the data is biased at 100.\n",
    "\n",
    "*But to be sure let’s find out the percentage of persons at 100 and beyond that.\n",
    "\n",
    "*When we see the percentage from range 100-105, we found that 36.32% persons having Avg_heart _rate as 100 which is actually a healthy range\n",
    "\n",
    "*When we see the percentage from range 110-115, we found that 70.76% persons having Avg_heart_rate beyond 100  which is not a healthy range. Despite of small peak as compare to peak at 100, there is much higher percentage.\n",
    "\n",
    "*Number of persons with average heart rate beyond 110bpm are more in this category which signifies that , going beyond the permissible range will lead to more risk of cardiac problems."
   ]
  },
  {
   "cell_type": "markdown",
   "metadata": {},
   "source": [
    "#####  When cardio is at category 0"
   ]
  },
  {
   "cell_type": "code",
   "execution_count": 121,
   "metadata": {},
   "outputs": [
    {
     "data": {
      "image/png": "[encoded data removed]",
      "text/plain": [
       "<Figure size 432x288 with 1 Axes>"
      ]
     },
     "metadata": {
      "needs_background": "light"
     },
     "output_type": "display_data"
    }
   ],
   "source": [
    "sns.histplot(x=df_copy[(df_copy['cardio']==0) & (df_copy['avg_heart_rate']<150) & (df_copy['avg_heart_rate']>50)].avg_heart_rate,data=df_copy,binwidth=5)\n",
    "plt.title('Effect of avg_heart_rate on cardio=0')\n",
    "plt.show()"
   ]
  },
  {
   "cell_type": "code",
   "execution_count": 124,
   "metadata": {},
   "outputs": [
    {
     "data": {
      "text/plain": [
       "0.6367690000789203"
      ]
     },
     "execution_count": 124,
     "metadata": {},
     "output_type": "execute_result"
    }
   ],
   "source": [
    "df_copy[(df_copy['cardio']==0) & (df_copy['avg_heart_rate']>99) & (df_copy['avg_heart_rate']<105)].avg_heart_rate.count()/df_copy[ (df_copy['avg_heart_rate']>99) & (df_copy['avg_heart_rate']<105)].avg_heart_rate.count()"
   ]
  },
  {
   "cell_type": "code",
   "execution_count": 125,
   "metadata": {},
   "outputs": [
    {
     "data": {
      "text/plain": [
       "0.2923909478517547"
      ]
     },
     "execution_count": 125,
     "metadata": {},
     "output_type": "execute_result"
    }
   ],
   "source": [
    "df_copy[(df_copy['cardio']==0) & (df_copy['avg_heart_rate']>109) & (df_copy['avg_heart_rate']<115)].avg_heart_rate.count()/df_copy[ (df_copy['avg_heart_rate']>109) & (df_copy['avg_heart_rate']<115)].avg_heart_rate.count()"
   ]
  },
  {
   "cell_type": "raw",
   "metadata": {},
   "source": [
    "*Cardio 0 means when a person is not having cardiac risk.\n",
    "\n",
    "*Although it is seen from the bar at 100 that max frequency of persons are at this range and smaller bars at other ranges but data is biased and thus it is not possible to tell the exact conclusion from this.so we need to calculate the percentages at 100 and beyond 100 range.\n",
    "\n",
    "*When we see the percentage from range 100-105, we found that 63.67% persons having Avg_heart _rate as 100 which is actually a healthy range\n",
    "\n",
    "*When we see the percentage from range 110-115, we found that 29.23% persons having Avg_heart_rate beyond 100 which is not a healthy range. Which means less no. of persons are having Avg heart rate beyond 100.\n",
    "\n",
    "*There are maximum no. of persons with the avg heart rate of 100mg which signifies that the persons with this range are not prone to cardiac risk much."
   ]
  },
  {
   "cell_type": "markdown",
   "metadata": {},
   "source": [
    "#### INTERPRETATIONS FROM RELATION BETWEEN INDEPENDENT VARIABLES."
   ]
  },
  {
   "cell_type": "markdown",
   "metadata": {},
   "source": [
    "##### Relation between Avg heart rate and age"
   ]
  },
  {
   "cell_type": "code",
   "execution_count": 131,
   "metadata": {},
   "outputs": [
    {
     "data": {
      "image/png": "[encoded data removed]",
      "text/plain": [
       "<Figure size 432x288 with 1 Axes>"
      ]
     },
     "metadata": {
      "needs_background": "light"
     },
     "output_type": "display_data"
    }
   ],
   "source": [
    "sns.histplot(x=df_copy[(df_copy['avg_heart_rate']>50) & (df_copy['avg_heart_rate']<=150)].avg_heart_rate,hue='age',binwidth=10,data=df_copy)\n",
    "plt.title('Relation between Avg_heart_rate and Age')\n",
    "plt.show()"
   ]
  },
  {
   "cell_type": "raw",
   "metadata": {},
   "source": [
    "*The plot is depicting that the persons who are younger have lower heart rate and persons which are old have higher heart rate.\n",
    "\n",
    "*The lighter colour denoting younger ages and darker colours representing older ages."
   ]
  },
  {
   "cell_type": "markdown",
   "metadata": {},
   "source": [
    "### FILTERATION OF THE DATA FOR THE MODEL IMPLEMENTATION"
   ]
  },
  {
   "cell_type": "raw",
   "metadata": {},
   "source": [
    "#  COLUMNS TO BE FILTERED WITHIN THESE RANGES\n",
    "1. low bp= 30-120\n",
    "2. high bp= 60-190\n",
    "3. avg heart rate = 30-300\n",
    "4. bmi = 11-150\n",
    "\n",
    "and we have to remove the values which are out of these ranges."
   ]
  },
  {
   "cell_type": "markdown",
   "metadata": {},
   "source": [
    "#### BP LOW FILTERATION "
   ]
  },
  {
   "cell_type": "code",
   "execution_count": 137,
   "metadata": {},
   "outputs": [
    {
     "data": {
      "text/plain": [
       "age               1109\n",
       "gender            1109\n",
       "height_in_cm      1109\n",
       "weight_in_kg      1109\n",
       "bp_hi             1109\n",
       "bp_lo             1109\n",
       "avg_heart_rate    1109\n",
       "cholesterol       1109\n",
       "gluc              1109\n",
       "smoke             1109\n",
       "alco              1109\n",
       "active            1109\n",
       "cardio            1109\n",
       "dtype: int64"
      ]
     },
     "execution_count": 137,
     "metadata": {},
     "output_type": "execute_result"
    }
   ],
   "source": [
    "fatal_bplow=df_copy[(df_copy['bp_lo']<MIN_LOW_BP) | (df_copy['bp_lo']>MAX_LOW_BP)]\n",
    "fatal_bplow.count()"
   ]
  },
  {
   "cell_type": "code",
   "execution_count": 138,
   "metadata": {},
   "outputs": [],
   "source": [
    "df_copy.drop(fatal_bplow.index,axis=0,inplace=True)"
   ]
  },
  {
   "cell_type": "code",
   "execution_count": 139,
   "metadata": {},
   "outputs": [
    {
     "data": {
      "text/plain": [
       "(68891, 13)"
      ]
     },
     "execution_count": 139,
     "metadata": {},
     "output_type": "execute_result"
    }
   ],
   "source": [
    "df_copy.shape"
   ]
  },
  {
   "cell_type": "markdown",
   "metadata": {},
   "source": [
    "#### BP HIGH FILTERATION "
   ]
  },
  {
   "cell_type": "code",
   "execution_count": 140,
   "metadata": {},
   "outputs": [
    {
     "data": {
      "text/plain": [
       "age               336\n",
       "gender            336\n",
       "height_in_cm      336\n",
       "weight_in_kg      336\n",
       "bp_hi             336\n",
       "bp_lo             336\n",
       "avg_heart_rate    336\n",
       "cholesterol       336\n",
       "gluc              336\n",
       "smoke             336\n",
       "alco              336\n",
       "active            336\n",
       "cardio            336\n",
       "dtype: int64"
      ]
     },
     "execution_count": 140,
     "metadata": {},
     "output_type": "execute_result"
    }
   ],
   "source": [
    "fatal_bphigh=df_copy[(df_copy['bp_hi']<MIN_HI_BP) | (df_copy['bp_hi']>MAX_HI_BP)]\n",
    "fatal_bphigh.count()"
   ]
  },
  {
   "cell_type": "code",
   "execution_count": 141,
   "metadata": {},
   "outputs": [],
   "source": [
    "df_copy.drop(fatal_bphigh.index,axis=0,inplace=True)"
   ]
  },
  {
   "cell_type": "code",
   "execution_count": 142,
   "metadata": {},
   "outputs": [
    {
     "data": {
      "text/plain": [
       "(68555, 13)"
      ]
     },
     "execution_count": 142,
     "metadata": {},
     "output_type": "execute_result"
    }
   ],
   "source": [
    "df_copy.shape"
   ]
  },
  {
   "cell_type": "markdown",
   "metadata": {},
   "source": [
    "#### AVG HEART RATE FILTERATION "
   ]
  },
  {
   "cell_type": "code",
   "execution_count": 143,
   "metadata": {},
   "outputs": [
    {
     "data": {
      "text/plain": [
       "age               0\n",
       "gender            0\n",
       "height_in_cm      0\n",
       "weight_in_kg      0\n",
       "bp_hi             0\n",
       "bp_lo             0\n",
       "avg_heart_rate    0\n",
       "cholesterol       0\n",
       "gluc              0\n",
       "smoke             0\n",
       "alco              0\n",
       "active            0\n",
       "cardio            0\n",
       "dtype: int64"
      ]
     },
     "execution_count": 143,
     "metadata": {},
     "output_type": "execute_result"
    }
   ],
   "source": [
    "df_copy[(df_copy['avg_heart_rate']<30) | (df_copy['avg_heart_rate']>300)].count()\n",
    "#less than 30 and more than 300 should be removed.\n",
    "#but by chance by the above removal of values this is automatically removed."
   ]
  },
  {
   "cell_type": "markdown",
   "metadata": {},
   "source": [
    "#### BMI FILTERATION "
   ]
  },
  {
   "cell_type": "code",
   "execution_count": 147,
   "metadata": {},
   "outputs": [
    {
     "data": {
      "text/plain": [
       "age               19\n",
       "gender            19\n",
       "height_in_cm      19\n",
       "weight_in_kg      19\n",
       "bp_hi             19\n",
       "bp_lo             19\n",
       "avg_heart_rate    19\n",
       "cholesterol       19\n",
       "gluc              19\n",
       "smoke             19\n",
       "alco              19\n",
       "active            19\n",
       "cardio            19\n",
       "dtype: int64"
      ]
     },
     "execution_count": 147,
     "metadata": {},
     "output_type": "execute_result"
    }
   ],
   "source": [
    "fatal_bmi=df_copy[(df_copy['weight_in_kg']/pow((df_copy['height_in_cm']/100),2) < 11) | (df_copy['weight_in_kg']/pow((df_copy['height_in_cm']/100),2) > 150)]\n",
    "fatal_bmi.count()"
   ]
  },
  {
   "cell_type": "code",
   "execution_count": 148,
   "metadata": {},
   "outputs": [],
   "source": [
    "df_copy.drop(fatal_bmi.index,axis=0,inplace=True)"
   ]
  },
  {
   "cell_type": "code",
   "execution_count": 149,
   "metadata": {},
   "outputs": [
    {
     "data": {
      "text/plain": [
       "(68536, 13)"
      ]
     },
     "execution_count": 149,
     "metadata": {},
     "output_type": "execute_result"
    }
   ],
   "source": [
    "df_copy.shape"
   ]
  },
  {
   "cell_type": "code",
   "execution_count": 150,
   "metadata": {},
   "outputs": [
    {
     "data": {
      "text/html": [
       "<div>\n",
       "<style scoped>\n",
       "    .dataframe tbody tr th:only-of-type {\n",
       "        vertical-align: middle;\n",
       "    }\n",
       "\n",
       "    .dataframe tbody tr th {\n",
       "        vertical-align: top;\n",
       "    }\n",
       "\n",
       "    .dataframe thead th {\n",
       "        text-align: right;\n",
       "    }\n",
       "</style>\n",
       "<table border=\"1\" class=\"dataframe\">\n",
       "  <thead>\n",
       "    <tr style=\"text-align: right;\">\n",
       "      <th></th>\n",
       "      <th>age</th>\n",
       "      <th>gender</th>\n",
       "      <th>height_in_cm</th>\n",
       "      <th>weight_in_kg</th>\n",
       "      <th>bp_hi</th>\n",
       "      <th>bp_lo</th>\n",
       "      <th>avg_heart_rate</th>\n",
       "      <th>cholesterol</th>\n",
       "      <th>gluc</th>\n",
       "      <th>smoke</th>\n",
       "      <th>alco</th>\n",
       "      <th>active</th>\n",
       "      <th>cardio</th>\n",
       "    </tr>\n",
       "  </thead>\n",
       "  <tbody>\n",
       "    <tr>\n",
       "      <th>0</th>\n",
       "      <td>52</td>\n",
       "      <td>2</td>\n",
       "      <td>168</td>\n",
       "      <td>62.0</td>\n",
       "      <td>110</td>\n",
       "      <td>80</td>\n",
       "      <td>95.0</td>\n",
       "      <td>1</td>\n",
       "      <td>1</td>\n",
       "      <td>0</td>\n",
       "      <td>0</td>\n",
       "      <td>1</td>\n",
       "      <td>0</td>\n",
       "    </tr>\n",
       "    <tr>\n",
       "      <th>1</th>\n",
       "      <td>57</td>\n",
       "      <td>1</td>\n",
       "      <td>156</td>\n",
       "      <td>85.0</td>\n",
       "      <td>140</td>\n",
       "      <td>90</td>\n",
       "      <td>115.0</td>\n",
       "      <td>3</td>\n",
       "      <td>1</td>\n",
       "      <td>0</td>\n",
       "      <td>0</td>\n",
       "      <td>1</td>\n",
       "      <td>1</td>\n",
       "    </tr>\n",
       "    <tr>\n",
       "      <th>2</th>\n",
       "      <td>53</td>\n",
       "      <td>1</td>\n",
       "      <td>165</td>\n",
       "      <td>64.0</td>\n",
       "      <td>130</td>\n",
       "      <td>70</td>\n",
       "      <td>100.0</td>\n",
       "      <td>3</td>\n",
       "      <td>1</td>\n",
       "      <td>0</td>\n",
       "      <td>0</td>\n",
       "      <td>0</td>\n",
       "      <td>1</td>\n",
       "    </tr>\n",
       "    <tr>\n",
       "      <th>3</th>\n",
       "      <td>50</td>\n",
       "      <td>2</td>\n",
       "      <td>169</td>\n",
       "      <td>82.0</td>\n",
       "      <td>150</td>\n",
       "      <td>100</td>\n",
       "      <td>125.0</td>\n",
       "      <td>1</td>\n",
       "      <td>1</td>\n",
       "      <td>0</td>\n",
       "      <td>0</td>\n",
       "      <td>1</td>\n",
       "      <td>1</td>\n",
       "    </tr>\n",
       "    <tr>\n",
       "      <th>4</th>\n",
       "      <td>49</td>\n",
       "      <td>1</td>\n",
       "      <td>156</td>\n",
       "      <td>56.0</td>\n",
       "      <td>100</td>\n",
       "      <td>60</td>\n",
       "      <td>80.0</td>\n",
       "      <td>1</td>\n",
       "      <td>1</td>\n",
       "      <td>0</td>\n",
       "      <td>0</td>\n",
       "      <td>0</td>\n",
       "      <td>0</td>\n",
       "    </tr>\n",
       "  </tbody>\n",
       "</table>\n",
       "</div>"
      ],
      "text/plain": [
       "   age  gender  height_in_cm  weight_in_kg  bp_hi  bp_lo  avg_heart_rate  \\\n",
       "0   52       2           168          62.0    110     80            95.0   \n",
       "1   57       1           156          85.0    140     90           115.0   \n",
       "2   53       1           165          64.0    130     70           100.0   \n",
       "3   50       2           169          82.0    150    100           125.0   \n",
       "4   49       1           156          56.0    100     60            80.0   \n",
       "\n",
       "   cholesterol  gluc  smoke  alco  active  cardio  \n",
       "0            1     1      0     0       1       0  \n",
       "1            3     1      0     0       1       1  \n",
       "2            3     1      0     0       0       1  \n",
       "3            1     1      0     0       1       1  \n",
       "4            1     1      0     0       0       0  "
      ]
     },
     "execution_count": 150,
     "metadata": {},
     "output_type": "execute_result"
    }
   ],
   "source": [
    "df_copy.head()"
   ]
  },
  {
   "cell_type": "code",
   "execution_count": 151,
   "metadata": {},
   "outputs": [
    {
     "data": {
      "text/plain": [
       "0    0\n",
       "1    1\n",
       "2    1\n",
       "3    1\n",
       "4    0\n",
       "Name: cardio, dtype: int64"
      ]
     },
     "execution_count": 151,
     "metadata": {},
     "output_type": "execute_result"
    }
   ],
   "source": [
    "y=df_copy['cardio']\n",
    "y.head()"
   ]
  },
  {
   "cell_type": "code",
   "execution_count": 152,
   "metadata": {},
   "outputs": [
    {
     "data": {
      "text/html": [
       "<div>\n",
       "<style scoped>\n",
       "    .dataframe tbody tr th:only-of-type {\n",
       "        vertical-align: middle;\n",
       "    }\n",
       "\n",
       "    .dataframe tbody tr th {\n",
       "        vertical-align: top;\n",
       "    }\n",
       "\n",
       "    .dataframe thead th {\n",
       "        text-align: right;\n",
       "    }\n",
       "</style>\n",
       "<table border=\"1\" class=\"dataframe\">\n",
       "  <thead>\n",
       "    <tr style=\"text-align: right;\">\n",
       "      <th></th>\n",
       "      <th>age</th>\n",
       "      <th>gender</th>\n",
       "      <th>height_in_cm</th>\n",
       "      <th>weight_in_kg</th>\n",
       "      <th>bp_hi</th>\n",
       "      <th>bp_lo</th>\n",
       "      <th>avg_heart_rate</th>\n",
       "      <th>cholesterol</th>\n",
       "      <th>gluc</th>\n",
       "      <th>smoke</th>\n",
       "      <th>alco</th>\n",
       "      <th>active</th>\n",
       "    </tr>\n",
       "  </thead>\n",
       "  <tbody>\n",
       "    <tr>\n",
       "      <th>0</th>\n",
       "      <td>52</td>\n",
       "      <td>2</td>\n",
       "      <td>168</td>\n",
       "      <td>62.0</td>\n",
       "      <td>110</td>\n",
       "      <td>80</td>\n",
       "      <td>95.0</td>\n",
       "      <td>1</td>\n",
       "      <td>1</td>\n",
       "      <td>0</td>\n",
       "      <td>0</td>\n",
       "      <td>1</td>\n",
       "    </tr>\n",
       "    <tr>\n",
       "      <th>1</th>\n",
       "      <td>57</td>\n",
       "      <td>1</td>\n",
       "      <td>156</td>\n",
       "      <td>85.0</td>\n",
       "      <td>140</td>\n",
       "      <td>90</td>\n",
       "      <td>115.0</td>\n",
       "      <td>3</td>\n",
       "      <td>1</td>\n",
       "      <td>0</td>\n",
       "      <td>0</td>\n",
       "      <td>1</td>\n",
       "    </tr>\n",
       "    <tr>\n",
       "      <th>2</th>\n",
       "      <td>53</td>\n",
       "      <td>1</td>\n",
       "      <td>165</td>\n",
       "      <td>64.0</td>\n",
       "      <td>130</td>\n",
       "      <td>70</td>\n",
       "      <td>100.0</td>\n",
       "      <td>3</td>\n",
       "      <td>1</td>\n",
       "      <td>0</td>\n",
       "      <td>0</td>\n",
       "      <td>0</td>\n",
       "    </tr>\n",
       "    <tr>\n",
       "      <th>3</th>\n",
       "      <td>50</td>\n",
       "      <td>2</td>\n",
       "      <td>169</td>\n",
       "      <td>82.0</td>\n",
       "      <td>150</td>\n",
       "      <td>100</td>\n",
       "      <td>125.0</td>\n",
       "      <td>1</td>\n",
       "      <td>1</td>\n",
       "      <td>0</td>\n",
       "      <td>0</td>\n",
       "      <td>1</td>\n",
       "    </tr>\n",
       "    <tr>\n",
       "      <th>4</th>\n",
       "      <td>49</td>\n",
       "      <td>1</td>\n",
       "      <td>156</td>\n",
       "      <td>56.0</td>\n",
       "      <td>100</td>\n",
       "      <td>60</td>\n",
       "      <td>80.0</td>\n",
       "      <td>1</td>\n",
       "      <td>1</td>\n",
       "      <td>0</td>\n",
       "      <td>0</td>\n",
       "      <td>0</td>\n",
       "    </tr>\n",
       "  </tbody>\n",
       "</table>\n",
       "</div>"
      ],
      "text/plain": [
       "   age  gender  height_in_cm  weight_in_kg  bp_hi  bp_lo  avg_heart_rate  \\\n",
       "0   52       2           168          62.0    110     80            95.0   \n",
       "1   57       1           156          85.0    140     90           115.0   \n",
       "2   53       1           165          64.0    130     70           100.0   \n",
       "3   50       2           169          82.0    150    100           125.0   \n",
       "4   49       1           156          56.0    100     60            80.0   \n",
       "\n",
       "   cholesterol  gluc  smoke  alco  active  \n",
       "0            1     1      0     0       1  \n",
       "1            3     1      0     0       1  \n",
       "2            3     1      0     0       0  \n",
       "3            1     1      0     0       1  \n",
       "4            1     1      0     0       0  "
      ]
     },
     "execution_count": 152,
     "metadata": {},
     "output_type": "execute_result"
    }
   ],
   "source": [
    "x=df_copy.drop('cardio',axis=1)\n",
    "x.head()"
   ]
  },
  {
   "cell_type": "markdown",
   "metadata": {},
   "source": [
    "### MODEL SELECTION AND IMPLEMENTATION"
   ]
  },
  {
   "cell_type": "raw",
   "metadata": {},
   "source": [
    "As our target variable is categorical variable, we can think of applying these models on our dataset:\n",
    "a) KNN – It is mainly used with the smaller column size and our dataset is having enough number of columns. So it’s our choice to use this.\n",
    "b) Logistic Regression\n",
    "c) Naïve Bayes \n",
    "d) Decision Tree\n",
    "e) Random Forest"
   ]
  },
  {
   "cell_type": "markdown",
   "metadata": {},
   "source": [
    "# KNN"
   ]
  },
  {
   "cell_type": "code",
   "execution_count": 153,
   "metadata": {},
   "outputs": [],
   "source": [
    "#splitting the training and testing variables to train the model.\n",
    "from sklearn.model_selection import train_test_split\n",
    "train_x, test_x, train_y, test_y = train_test_split(x,y,test_size=.3) "
   ]
  },
  {
   "cell_type": "code",
   "execution_count": 154,
   "metadata": {},
   "outputs": [
    {
     "data": {
      "text/plain": [
       "KNeighborsClassifier()"
      ]
     },
     "execution_count": 154,
     "metadata": {},
     "output_type": "execute_result"
    }
   ],
   "source": [
    "#defining the neighbours of the testing value.\n",
    "from sklearn.neighbors import KNeighborsClassifier\n",
    "knn=KNeighborsClassifier(n_neighbors=5)\n",
    "knn"
   ]
  },
  {
   "cell_type": "code",
   "execution_count": 155,
   "metadata": {},
   "outputs": [
    {
     "data": {
      "text/plain": [
       "KNeighborsClassifier()"
      ]
     },
     "execution_count": 155,
     "metadata": {},
     "output_type": "execute_result"
    }
   ],
   "source": [
    "#Fitting the model \n",
    "knn.fit(train_x,train_y)"
   ]
  },
  {
   "cell_type": "code",
   "execution_count": 156,
   "metadata": {},
   "outputs": [
    {
     "data": {
      "text/plain": [
       "array([0, 0, 0, ..., 1, 1, 0], dtype=int64)"
      ]
     },
     "execution_count": 156,
     "metadata": {},
     "output_type": "execute_result"
    }
   ],
   "source": [
    "#predicting the model\n",
    "predict=knn.predict(test_x)\n",
    "predict"
   ]
  },
  {
   "cell_type": "code",
   "execution_count": 157,
   "metadata": {},
   "outputs": [
    {
     "data": {
      "text/plain": [
       "69.06278877486504"
      ]
     },
     "execution_count": 157,
     "metadata": {},
     "output_type": "execute_result"
    }
   ],
   "source": [
    "from sklearn.metrics import accuracy_score\n",
    "accuracy_score(predict,test_y)*100"
   ]
  },
  {
   "cell_type": "markdown",
   "metadata": {},
   "source": [
    "#### KNN is providing accuracy of 69% which is not good.We can drop of this method for model implementation."
   ]
  },
  {
   "cell_type": "markdown",
   "metadata": {},
   "source": [
    "# LOGISTIC REGRESSION"
   ]
  },
  {
   "cell_type": "code",
   "execution_count": 158,
   "metadata": {},
   "outputs": [
    {
     "data": {
      "text/plain": [
       "LogisticRegression()"
      ]
     },
     "execution_count": 158,
     "metadata": {},
     "output_type": "execute_result"
    }
   ],
   "source": [
    "from sklearn.linear_model import LogisticRegression\n",
    "model=LogisticRegression()\n",
    "model"
   ]
  },
  {
   "cell_type": "code",
   "execution_count": 160,
   "metadata": {},
   "outputs": [
    {
     "data": {
      "text/plain": [
       "LogisticRegression()"
      ]
     },
     "execution_count": 160,
     "metadata": {},
     "output_type": "execute_result"
    }
   ],
   "source": [
    "model.fit(train_x,train_y)"
   ]
  },
  {
   "cell_type": "code",
   "execution_count": 161,
   "metadata": {},
   "outputs": [],
   "source": [
    "pred=model.predict(test_x)"
   ]
  },
  {
   "cell_type": "code",
   "execution_count": 162,
   "metadata": {},
   "outputs": [
    {
     "data": {
      "text/plain": [
       "0.7130976119838529"
      ]
     },
     "execution_count": 162,
     "metadata": {},
     "output_type": "execute_result"
    }
   ],
   "source": [
    "accuracy_score(pred,test_y)"
   ]
  },
  {
   "cell_type": "markdown",
   "metadata": {},
   "source": [
    "#### Accuracy of logistic is 71.30% which is more than KNN and 70% accuracy is quite good..we can keep this for now and look for other better model"
   ]
  },
  {
   "cell_type": "code",
   "execution_count": 163,
   "metadata": {},
   "outputs": [
    {
     "name": "stdout",
     "output_type": "stream",
     "text": [
      "              precision    recall  f1-score   support\n",
      "\n",
      "           0       0.76      0.70      0.73     11302\n",
      "           1       0.67      0.73      0.70      9259\n",
      "\n",
      "    accuracy                           0.71     20561\n",
      "   macro avg       0.71      0.71      0.71     20561\n",
      "weighted avg       0.72      0.71      0.71     20561\n",
      "\n"
     ]
    }
   ],
   "source": [
    "print(classification_report(pred,test_y))"
   ]
  },
  {
   "cell_type": "code",
   "execution_count": 164,
   "metadata": {},
   "outputs": [
    {
     "data": {
      "text/plain": [
       "array([[7907, 3395],\n",
       "       [2504, 6755]], dtype=int64)"
      ]
     },
     "execution_count": 164,
     "metadata": {},
     "output_type": "execute_result"
    }
   ],
   "source": [
    "confusion_matrix(pred,test_y)"
   ]
  },
  {
   "cell_type": "code",
   "execution_count": 165,
   "metadata": {},
   "outputs": [
    {
     "data": {
      "image/png": "[encoded data removed]",
      "text/plain": [
       "<Figure size 432x288 with 2 Axes>"
      ]
     },
     "metadata": {
      "needs_background": "light"
     },
     "output_type": "display_data"
    }
   ],
   "source": [
    "cm=confusion_matrix(pred,test_y)\n",
    "conf_matrix=pd.DataFrame(cm,index=['Prediction 0','Prediction 1'],columns=['Actual 0','Actual 1'])\n",
    "\n",
    "sns.heatmap(conf_matrix,annot=True,fmt='d')\n",
    "plt.title('confusion Matrix for Logistic Regression')\n",
    "plt.show()\n",
    "#14724 true values"
   ]
  },
  {
   "cell_type": "markdown",
   "metadata": {},
   "source": [
    "#### This model is giving 14,724 true values and FN is low from FP. For better fitting and accuracy we should focus on reducing FN."
   ]
  },
  {
   "cell_type": "markdown",
   "metadata": {},
   "source": [
    "# Naive Bayes"
   ]
  },
  {
   "cell_type": "code",
   "execution_count": 166,
   "metadata": {},
   "outputs": [
    {
     "data": {
      "text/plain": [
       "GaussianNB()"
      ]
     },
     "execution_count": 166,
     "metadata": {},
     "output_type": "execute_result"
    }
   ],
   "source": [
    "#importing the model.\n",
    "from sklearn.naive_bayes import GaussianNB\n",
    "Bayes=GaussianNB()\n",
    "Bayes"
   ]
  },
  {
   "cell_type": "code",
   "execution_count": 167,
   "metadata": {},
   "outputs": [
    {
     "data": {
      "text/plain": [
       "GaussianNB()"
      ]
     },
     "execution_count": 167,
     "metadata": {},
     "output_type": "execute_result"
    }
   ],
   "source": [
    "#fitting the data into the model\n",
    "Bayes.fit(train_x,train_y)"
   ]
  },
  {
   "cell_type": "code",
   "execution_count": 168,
   "metadata": {},
   "outputs": [],
   "source": [
    "pred1=Bayes.predict(test_x)"
   ]
  },
  {
   "cell_type": "code",
   "execution_count": 169,
   "metadata": {},
   "outputs": [
    {
     "data": {
      "text/plain": [
       "0.7181070959583677"
      ]
     },
     "execution_count": 169,
     "metadata": {},
     "output_type": "execute_result"
    }
   ],
   "source": [
    "accuracy_score(pred1,test_y)"
   ]
  },
  {
   "cell_type": "markdown",
   "metadata": {},
   "source": [
    "#### Accuracy of Naive Bayes is 71.81% which is more than KNN and close enough to logistic."
   ]
  },
  {
   "cell_type": "code",
   "execution_count": 170,
   "metadata": {},
   "outputs": [
    {
     "data": {
      "text/plain": [
       "0.7188338975137154"
      ]
     },
     "execution_count": 170,
     "metadata": {},
     "output_type": "execute_result"
    }
   ],
   "source": [
    "Bayes.score(x,y)"
   ]
  },
  {
   "cell_type": "code",
   "execution_count": 171,
   "metadata": {},
   "outputs": [
    {
     "name": "stdout",
     "output_type": "stream",
     "text": [
      "              precision    recall  f1-score   support\n",
      "\n",
      "           0       0.82      0.69      0.75     12363\n",
      "           1       0.62      0.77      0.68      8198\n",
      "\n",
      "    accuracy                           0.72     20561\n",
      "   macro avg       0.72      0.73      0.71     20561\n",
      "weighted avg       0.74      0.72      0.72     20561\n",
      "\n"
     ]
    }
   ],
   "source": [
    "print(classification_report(pred1,test_y))"
   ]
  },
  {
   "cell_type": "code",
   "execution_count": 172,
   "metadata": {},
   "outputs": [
    {
     "data": {
      "image/png": "[encoded data removed]",
      "text/plain": [
       "<Figure size 432x288 with 2 Axes>"
      ]
     },
     "metadata": {
      "needs_background": "light"
     },
     "output_type": "display_data"
    }
   ],
   "source": [
    "cm1=confusion_matrix(pred1,test_y)\n",
    "conf_matrix1=pd.DataFrame(cm1,index=['Prediction 0','Prediction 1'],columns=['Actual 0','Actual 1'])\n",
    "\n",
    "sns.heatmap(conf_matrix1,annot=True,fmt='d')\n",
    "plt.title('confusion Matrix for Naive Bayes')\n",
    "plt.show()\n",
    "#14820 true values"
   ]
  },
  {
   "cell_type": "markdown",
   "metadata": {},
   "source": [
    "#### This model is giving 14,765 true values and FN is also quite low from FP.\n",
    "#### This model is giving us more true values as compare to the logistic regression and lesser number of FN values.\n"
   ]
  },
  {
   "cell_type": "markdown",
   "metadata": {},
   "source": [
    " # Decision Tree"
   ]
  },
  {
   "cell_type": "code",
   "execution_count": 173,
   "metadata": {},
   "outputs": [
    {
     "data": {
      "text/plain": [
       "DecisionTreeClassifier()"
      ]
     },
     "execution_count": 173,
     "metadata": {},
     "output_type": "execute_result"
    }
   ],
   "source": [
    "#importing the model.\n",
    "from sklearn import tree\n",
    "model=tree.DecisionTreeClassifier()\n",
    "model"
   ]
  },
  {
   "cell_type": "code",
   "execution_count": 174,
   "metadata": {},
   "outputs": [
    {
     "data": {
      "text/plain": [
       "DecisionTreeClassifier()"
      ]
     },
     "execution_count": 174,
     "metadata": {},
     "output_type": "execute_result"
    }
   ],
   "source": [
    "model.fit(train_x,train_y)"
   ]
  },
  {
   "cell_type": "code",
   "execution_count": 175,
   "metadata": {},
   "outputs": [
    {
     "data": {
      "text/plain": [
       "array([0, 0, 0, ..., 1, 1, 0], dtype=int64)"
      ]
     },
     "execution_count": 175,
     "metadata": {},
     "output_type": "execute_result"
    }
   ],
   "source": [
    "pred2=model.predict(test_x)\n",
    "pred2"
   ]
  },
  {
   "cell_type": "code",
   "execution_count": 176,
   "metadata": {},
   "outputs": [
    {
     "data": {
      "text/plain": [
       "0.6370312727980156"
      ]
     },
     "execution_count": 176,
     "metadata": {},
     "output_type": "execute_result"
    }
   ],
   "source": [
    "accuracy_score(pred2,test_y)"
   ]
  },
  {
   "cell_type": "markdown",
   "metadata": {},
   "source": [
    "#### Accuracy of Decision tree(63%) is also quite low..we can drop this algorithm."
   ]
  },
  {
   "cell_type": "code",
   "execution_count": 177,
   "metadata": {},
   "outputs": [
    {
     "data": {
      "image/png": "[encoded data removed]",
      "text/plain": [
       "<Figure size 432x288 with 2 Axes>"
      ]
     },
     "metadata": {
      "needs_background": "light"
     },
     "output_type": "display_data"
    }
   ],
   "source": [
    "cm2=confusion_matrix(pred2,test_y)\n",
    "conf_matrix2=pd.DataFrame(cm2,index=['Prediction 0','Prediction 1'],columns=['Actual 0','Actual 1'])\n",
    "\n",
    "sns.heatmap(conf_matrix2,annot=True,fmt='d')\n",
    "plt.show()"
   ]
  },
  {
   "cell_type": "markdown",
   "metadata": {},
   "source": [
    "# Random  forest"
   ]
  },
  {
   "cell_type": "code",
   "execution_count": 178,
   "metadata": {},
   "outputs": [
    {
     "data": {
      "text/plain": [
       "RandomForestClassifier()"
      ]
     },
     "execution_count": 178,
     "metadata": {},
     "output_type": "execute_result"
    }
   ],
   "source": [
    "#importing the module\n",
    "from sklearn import ensemble\n",
    "classifier=ensemble.RandomForestClassifier()\n",
    "classifier"
   ]
  },
  {
   "cell_type": "code",
   "execution_count": 179,
   "metadata": {},
   "outputs": [
    {
     "data": {
      "text/plain": [
       "RandomForestClassifier()"
      ]
     },
     "execution_count": 179,
     "metadata": {},
     "output_type": "execute_result"
    }
   ],
   "source": [
    "classifier.fit(train_x,train_y)"
   ]
  },
  {
   "cell_type": "code",
   "execution_count": 180,
   "metadata": {},
   "outputs": [],
   "source": [
    "pred3=classifier.predict(test_x)"
   ]
  },
  {
   "cell_type": "code",
   "execution_count": 181,
   "metadata": {},
   "outputs": [
    {
     "data": {
      "text/plain": [
       "0.7011818491318516"
      ]
     },
     "execution_count": 181,
     "metadata": {},
     "output_type": "execute_result"
    }
   ],
   "source": [
    "accuracy_score(pred3,test_y)"
   ]
  },
  {
   "cell_type": "markdown",
   "metadata": {},
   "source": [
    "#### Accuracy of Random Forest is close to Logistic and Naive Bayes,we are considering both of the algorithms and can take this one also in implementation."
   ]
  },
  {
   "cell_type": "code",
   "execution_count": 182,
   "metadata": {},
   "outputs": [
    {
     "name": "stdout",
     "output_type": "stream",
     "text": [
      "              precision    recall  f1-score   support\n",
      "\n",
      "           0       0.71      0.70      0.71     10521\n",
      "           1       0.69      0.70      0.70     10040\n",
      "\n",
      "    accuracy                           0.70     20561\n",
      "   macro avg       0.70      0.70      0.70     20561\n",
      "weighted avg       0.70      0.70      0.70     20561\n",
      "\n"
     ]
    }
   ],
   "source": [
    "print(classification_report(pred3,test_y))"
   ]
  },
  {
   "cell_type": "code",
   "execution_count": 183,
   "metadata": {},
   "outputs": [
    {
     "data": {
      "image/png": "[encoded data removed]",
      "text/plain": [
       "<Figure size 432x288 with 2 Axes>"
      ]
     },
     "metadata": {
      "needs_background": "light"
     },
     "output_type": "display_data"
    }
   ],
   "source": [
    "cm3=confusion_matrix(pred3,test_y)\n",
    "conf_matrix3=pd.DataFrame(cm3,index=['Prediction 0','Prediction 1'],columns=['Actual 0','Actual 1'])\n",
    "\n",
    "sns.heatmap(conf_matrix3,annot=True,fmt='d')\n",
    "plt.title('confusion Matrix for Random Forest')\n",
    "plt.show()"
   ]
  },
  {
   "cell_type": "markdown",
   "metadata": {},
   "source": [
    "#### This model is giving 14,417 true values, although this model is giving a fair enough true values but the count of FN values is quite high which means model is falsely predicting .‘One actually are at risk’ and model is predicting that ‘they are not at risk’ which is dangerous."
   ]
  },
  {
   "cell_type": "markdown",
   "metadata": {},
   "source": [
    "### CONCLUSION"
   ]
  },
  {
   "cell_type": "markdown",
   "metadata": {},
   "source": [
    "### Out of 3 better models namely Logistic Regression,Naive bayes and Random Forest\n",
    "### Naïve Bayes is best one which is having 72% accuracy and the True values is also high and False Negative(1922) is quite low as compared to  other models."
   ]
  },
  {
   "cell_type": "code",
   "execution_count": null,
   "metadata": {},
   "outputs": [],
   "source": []
  }
 ],
 "metadata": {
  "kernelspec": {
   "display_name": "Python 3",
   "language": "python",
   "name": "python3"
  },
  "language_info": {
   "codemirror_mode": {
    "name": "ipython",
    "version": 3
   },
   "file_extension": ".py",
   "mimetype": "text/x-python",
   "name": "python",
   "nbconvert_exporter": "python",
   "pygments_lexer": "ipython3",
   "version": "3.8.5"
  }
 },
 "nbformat": 4,
 "nbformat_minor": 4
}